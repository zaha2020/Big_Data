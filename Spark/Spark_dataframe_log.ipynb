{
  "cells": [
    {
      "cell_type": "markdown",
      "metadata": {
        "id": "vNq95uho72Zb"
      },
      "source": [
        "<div id=\"section1\"   dir='rtl'>\n",
        "    <h2>\n",
        " در این گام به بررسی فایل log می پردازیم</div>\n",
        "</h2>\n",
        "        <hr>"
      ]
    },
    {
      "cell_type": "markdown",
      "metadata": {
        "id": "_wbT0Y49nJkV"
      },
      "source": [
        "Installing Spark\n",
        "Install Dependencies:\n",
        "```\n",
        "1.   Java 8\n",
        "2.   Apache Spark with hadoop and\n",
        "3.Findspark (used to locate the spark in the system)"
      ]
    },
    {
      "cell_type": "code",
      "execution_count": 1,
      "metadata": {
        "id": "Lgvy-ajGmzdb"
      },
      "outputs": [],
      "source": [
        "!apt-get install openjdk-8-jdk-headless -qq > /dev/null\n",
        "!wget -q http://archive.apache.org/dist/spark/spark-3.1.1/spark-3.1.1-bin-hadoop3.2.tgz\n",
        "!tar xf spark-3.1.1-bin-hadoop3.2.tgz\n",
        "!pip install -q findspark"
      ]
    },
    {
      "cell_type": "markdown",
      "metadata": {
        "id": "NH5sdg9_n9su"
      },
      "source": [
        "Set Environment Variables:\n",
        "\n"
      ]
    },
    {
      "cell_type": "code",
      "execution_count": 2,
      "metadata": {
        "id": "i7b9n6ICoFrV"
      },
      "outputs": [],
      "source": [
        "import os\n",
        "os.environ[\"JAVA_HOME\"] = \"/usr/lib/jvm/java-8-openjdk-amd64\"\n",
        "os.environ[\"SPARK_HOME\"] = \"/content/spark-3.1.1-bin-hadoop3.2\""
      ]
    },
    {
      "cell_type": "code",
      "execution_count": 3,
      "metadata": {
        "colab": {
          "base_uri": "https://localhost:8080/"
        },
        "id": "JupZuyWMoOFd",
        "outputId": "52002319-2952-46ce-e7c7-4eb374bab120"
      },
      "outputs": [
        {
          "name": "stdout",
          "output_type": "stream",
          "text": [
            "sample_data  spark-3.1.1-bin-hadoop3.2\tspark-3.1.1-bin-hadoop3.2.tgz\n"
          ]
        }
      ],
      "source": [
        "!ls"
      ]
    },
    {
      "cell_type": "code",
      "execution_count": 4,
      "metadata": {
        "colab": {
          "base_uri": "https://localhost:8080/",
          "height": 216
        },
        "id": "dxiF-WI1oM7-",
        "outputId": "1792cca7-ed5d-4f42-9493-973e7dc29393"
      },
      "outputs": [
        {
          "data": {
            "text/html": [
              "\n",
              "            <div>\n",
              "                <p><b>SparkSession - in-memory</b></p>\n",
              "                \n",
              "        <div>\n",
              "            <p><b>SparkContext</b></p>\n",
              "\n",
              "            <p><a href=\"http://9bd26a469afa:4040\">Spark UI</a></p>\n",
              "\n",
              "            <dl>\n",
              "              <dt>Version</dt>\n",
              "                <dd><code>v3.1.1</code></dd>\n",
              "              <dt>Master</dt>\n",
              "                <dd><code>local[*]</code></dd>\n",
              "              <dt>AppName</dt>\n",
              "                <dd><code>pyspark-shell</code></dd>\n",
              "            </dl>\n",
              "        </div>\n",
              "        \n",
              "            </div>\n",
              "        "
            ],
            "text/plain": [
              "<pyspark.sql.session.SparkSession at 0x7f6031a5a390>"
            ]
          },
          "execution_count": 4,
          "metadata": {
            "tags": []
          },
          "output_type": "execute_result"
        }
      ],
      "source": [
        "import findspark\n",
        "findspark.init()\n",
        "from pyspark.sql import SparkSession\n",
        "spark = SparkSession.builder.master(\"local[*]\").getOrCreate()\n",
        "spark.conf.set(\"spark.sql.repl.eagerEval.enabled\", True) \n",
        "spark"
      ]
    },
    {
      "cell_type": "markdown",
      "metadata": {
        "id": "kofrR47gpK-T"
      },
      "source": [
        "<div id=\"section1\"   dir='**rtl**'>\n",
        "    <h2>\n",
        " install to googledrive</div>\n",
        "</h2>\n",
        "        <hr>\n",
        "\n"
      ]
    },
    {
      "cell_type": "code",
      "execution_count": 5,
      "metadata": {
        "colab": {
          "base_uri": "https://localhost:8080/"
        },
        "id": "tz2INOzwpCBn",
        "outputId": "5eaf4fbd-31e9-4748-aa42-14cca59d2f24"
      },
      "outputs": [
        {
          "name": "stdout",
          "output_type": "stream",
          "text": [
            "Mounted at /content/drive\n"
          ]
        }
      ],
      "source": [
        "from google.colab import drive\n",
        "drive.mount('/content/drive')"
      ]
    },
    {
      "cell_type": "markdown",
      "metadata": {
        "id": "F58fQydA9LZy"
      },
      "source": [
        "<div id=\"section1\"   dir='rtl'>\n",
        "    <h2>\n",
        " کتابخانه های مورد نیاز را ایمپورت می کنیم</div>\n",
        "</h2>\n",
        "        <hr>\n"
      ]
    },
    {
      "cell_type": "code",
      "execution_count": 6,
      "metadata": {
        "id": "7JeXsiaUryH5"
      },
      "outputs": [],
      "source": [
        "import matplotlib.pyplot as plt\n",
        "import seaborn as sns\n"
      ]
    },
    {
      "cell_type": "markdown",
      "metadata": {
        "id": "DPDxA7YRpd0E"
      },
      "source": [
        "<div id=\"section1\"   dir='rtl'>\n",
        "    <h2>\n",
        "خواندن فایل در اسپارک\n",
        "      :::  با استفاده از تابع read.text در اسپارک  فایل log را از گوگل درایو می خوانیم\n",
        "    </h2>\n",
        "        <hr>\n",
        "</div>"
      ]
    },
    {
      "cell_type": "code",
      "execution_count": 7,
      "metadata": {
        "id": "l0MeRARCpB6m"
      },
      "outputs": [],
      "source": [
        "logfile=spark.read.text(\"/content/drive/MyDrive/spark/Datasets/2/Log\")"
      ]
    },
    {
      "cell_type": "markdown",
      "metadata": {
        "id": "ZqQ6e9p394On"
      },
      "source": [
        "<div id=\"section1\"   dir='rtl'>\n",
        "    <h2>\n",
        "با استفاده از تابع take  یک دید کوچک از  فایل log بدست می اوریم</div>\n",
        "</h2>\n",
        "        <hr>"
      ]
    },
    {
      "cell_type": "code",
      "execution_count": 9,
      "metadata": {
        "colab": {
          "base_uri": "https://localhost:8080/"
        },
        "id": "X5_6nxX3pB5C",
        "outputId": "3176d93f-ea10-4192-9844-d53e70f1ca17"
      },
      "outputs": [
        {
          "data": {
            "text/plain": [
              "[Row(value='199.72.81.55 - - [01/Jul/1995:00:00:01 -0400] \"GET /history/apollo/ HTTP/1.0\" 200 6245'),\n",
              " Row(value='unicomp6.unicomp.net - - [01/Jul/1995:00:00:06 -0400] \"GET /shuttle/countdown/ HTTP/1.0\" 200 3985'),\n",
              " Row(value='199.120.110.21 - - [01/Jul/1995:00:00:09 -0400] \"GET /shuttle/missions/sts-73/mission-sts-73.html HTTP/1.0\" 200 4085'),\n",
              " Row(value='burger.letters.com - - [01/Jul/1995:00:00:11 -0400] \"GET /shuttle/countdown/liftoff.html HTTP/1.0\" 304 0'),\n",
              " Row(value='199.120.110.21 - - [01/Jul/1995:00:00:11 -0400] \"GET /shuttle/missions/sts-73/sts-73-patch-small.gif HTTP/1.0\" 200 4179'),\n",
              " Row(value='burger.letters.com - - [01/Jul/1995:00:00:12 -0400] \"GET /images/NASA-logosmall.gif HTTP/1.0\" 304 0'),\n",
              " Row(value='burger.letters.com - - [01/Jul/1995:00:00:12 -0400] \"GET /shuttle/countdown/video/livevideo.gif HTTP/1.0\" 200 0'),\n",
              " Row(value='205.212.115.106 - - [01/Jul/1995:00:00:12 -0400] \"GET /shuttle/countdown/countdown.html HTTP/1.0\" 200 3985'),\n",
              " Row(value='d104.aa.net - - [01/Jul/1995:00:00:13 -0400] \"GET /shuttle/countdown/ HTTP/1.0\" 200 3985'),\n",
              " Row(value='129.94.144.152 - - [01/Jul/1995:00:00:13 -0400] \"GET / HTTP/1.0\" 200 7074')]"
            ]
          },
          "execution_count": 9,
          "metadata": {
            "tags": []
          },
          "output_type": "execute_result"
        }
      ],
      "source": [
        "logfile.take(10)"
      ]
    },
    {
      "cell_type": "markdown",
      "metadata": {
        "id": "J7cOD09VuNb8"
      },
      "source": [
        "<div id=\"section1\"   dir='rtl'>\n",
        "    <h2>\n",
        " قبل اینکه فایل log را به دیتافریم تبدیل کنیم یک دیدی از تعداد کل فایل log می خواهیم داشته باشیم که چه تعداد است همانطور که میبینیم کل فایل log در یک ستون قرار دارد پس باید ستون ها را از هم جدا کنیم که در ادامه اینکارا خواهیم کرد.</div>\n",
        "</h2>\n",
        "        <hr>\n"
      ]
    },
    {
      "cell_type": "code",
      "execution_count": 10,
      "metadata": {
        "colab": {
          "base_uri": "https://localhost:8080/"
        },
        "id": "2okx8sh5pBvt",
        "outputId": "d52b11cc-843a-420e-93a1-587b77ece776"
      },
      "outputs": [
        {
          "name": "stdout",
          "output_type": "stream",
          "text": [
            "(1891715, 1)\n"
          ]
        }
      ],
      "source": [
        "print((logfile.count(), len(logfile.columns)))"
      ]
    },
    {
      "cell_type": "markdown",
      "metadata": {
        "id": "YuR1vE4OvD_m"
      },
      "source": [
        "we must write some regular expressions to extract the columns from the logs:\n",
        "<div id=\"section1\"   dir='rtl'>\n",
        "    <h2>\n",
        " برای جدا کردن و استخراج ستون ها از این فایل باید عبارات منظم برای هر ستون بنویسیم</div>\n",
        "</h2>\n",
        "        <hr>\n",
        "\n"
      ]
    },
    {
      "cell_type": "code",
      "execution_count": 11,
      "metadata": {
        "id": "TzEDfhNfpBsc"
      },
      "outputs": [],
      "source": [
        "host_pattern = r'(^\\S+\\.[\\S+\\.]+\\S+)\\s'\n",
        "timespan_pattern = r'\\[(\\d{2}/\\w{3}/\\d{4}:\\d{2}:\\d{2}:\\d{2} -\\d{4})]'\n",
        "method_uri_protocol_pattern = r'\\\"(\\S+)\\s(\\S+)\\s*(\\S*)\\\"'\n",
        "status_pattern = r'\\s(\\d{3})\\s'\n",
        "content_size_pattern = r'\\s(\\d+)$'\n"
      ]
    },
    {
      "cell_type": "markdown",
      "metadata": {
        "id": "DUOSR-UWwX6o"
      },
      "source": [
        "leverage all the regular expression patterns(convert to dataframe)"
      ]
    },
    {
      "cell_type": "markdown",
      "metadata": {
        "id": "GuCiGZPeCDAX"
      },
      "source": [
        "<div id=\"section1\"   dir='rtl'>\n",
        "    <h2>\n",
        "از تابع select و regexp_extract در اسپارک برای ساختن دیتافریم با استفاده از الگوهای منظمی که در گام قبل ست کردیم، استفاده می کنیم .\n",
        "  و نام هر ستون را با تابع alias به اسم های انتخابی خود ست می کنیم همانطور که در جدول می بینیم کل فایل log به یک دیتافریم 7 ستونه تبدیل شد.   </div>\n",
        "</h2>\n",
        "        <hr>\n",
        "<div id=\"section1\"   dir='rtl'>\n",
        "    <h2>\n",
        "    regexp_extract function::::\n",
        "\n",
        "یک گروه خاص را که مطابق با  regex است ، از ستون رشته مشخص شده استخراج می کند. اگر regex مطابقت نداشته باشد یا گروه مشخص شده مطابقت نداشته باشد ، یک رشته خالی بازگردانده می شود.  </div>\n",
        "</h2>\n",
        "        <hr>"
      ]
    },
    {
      "cell_type": "code",
      "execution_count": 12,
      "metadata": {
        "colab": {
          "base_uri": "https://localhost:8080/"
        },
        "id": "BDolIT6upBeu",
        "outputId": "4b942beb-edb0-42fc-8570-37fea1d13a6e"
      },
      "outputs": [
        {
          "name": "stdout",
          "output_type": "stream",
          "text": [
            "+--------------------+--------------------+------+--------------------+--------+------+------------+\n",
            "|                host|           timestamp|method|            endpoint|protocol|status|content_size|\n",
            "+--------------------+--------------------+------+--------------------+--------+------+------------+\n",
            "|        199.72.81.55|01/Jul/1995:00:00...|   GET|    /history/apollo/|HTTP/1.0|   200|        6245|\n",
            "|unicomp6.unicomp.net|01/Jul/1995:00:00...|   GET| /shuttle/countdown/|HTTP/1.0|   200|        3985|\n",
            "|      199.120.110.21|01/Jul/1995:00:00...|   GET|/shuttle/missions...|HTTP/1.0|   200|        4085|\n",
            "|  burger.letters.com|01/Jul/1995:00:00...|   GET|/shuttle/countdow...|HTTP/1.0|   304|           0|\n",
            "|      199.120.110.21|01/Jul/1995:00:00...|   GET|/shuttle/missions...|HTTP/1.0|   200|        4179|\n",
            "|  burger.letters.com|01/Jul/1995:00:00...|   GET|/images/NASA-logo...|HTTP/1.0|   304|           0|\n",
            "|  burger.letters.com|01/Jul/1995:00:00...|   GET|/shuttle/countdow...|HTTP/1.0|   200|           0|\n",
            "|     205.212.115.106|01/Jul/1995:00:00...|   GET|/shuttle/countdow...|HTTP/1.0|   200|        3985|\n",
            "|         d104.aa.net|01/Jul/1995:00:00...|   GET| /shuttle/countdown/|HTTP/1.0|   200|        3985|\n",
            "|      129.94.144.152|01/Jul/1995:00:00...|   GET|                   /|HTTP/1.0|   200|        7074|\n",
            "|unicomp6.unicomp.net|01/Jul/1995:00:00...|   GET|/shuttle/countdow...|HTTP/1.0|   200|       40310|\n",
            "|unicomp6.unicomp.net|01/Jul/1995:00:00...|   GET|/images/NASA-logo...|HTTP/1.0|   200|         786|\n",
            "|unicomp6.unicomp.net|01/Jul/1995:00:00...|   GET|/images/KSC-logos...|HTTP/1.0|   200|        1204|\n",
            "|         d104.aa.net|01/Jul/1995:00:00...|   GET|/shuttle/countdow...|HTTP/1.0|   200|       40310|\n",
            "|         d104.aa.net|01/Jul/1995:00:00...|   GET|/images/NASA-logo...|HTTP/1.0|   200|         786|\n",
            "|         d104.aa.net|01/Jul/1995:00:00...|   GET|/images/KSC-logos...|HTTP/1.0|   200|        1204|\n",
            "|      129.94.144.152|01/Jul/1995:00:00...|   GET|/images/ksclogo-m...|HTTP/1.0|   304|           0|\n",
            "|      199.120.110.21|01/Jul/1995:00:00...|   GET|/images/launch-lo...|HTTP/1.0|   200|        1713|\n",
            "|ppptky391.asahi-n...|01/Jul/1995:00:00...|   GET|/facts/about_ksc....|HTTP/1.0|   200|        3977|\n",
            "|  net-1-141.eden.com|01/Jul/1995:00:00...|   GET|/shuttle/missions...|HTTP/1.0|   200|       34029|\n",
            "+--------------------+--------------------+------+--------------------+--------+------+------------+\n",
            "only showing top 20 rows\n",
            "\n",
            "(1891715, 7)\n"
          ]
        }
      ],
      "source": [
        "from pyspark.sql.functions import regexp_extract\n",
        "\n",
        "logs_data = logfile.select(regexp_extract('value', host_pattern, 1).alias('host'),\n",
        "                         regexp_extract('value', timespan_pattern, 1).alias('timestamp'),\n",
        "                         regexp_extract('value', method_uri_protocol_pattern, 1).alias('method'),\n",
        "                         regexp_extract('value', method_uri_protocol_pattern, 2).alias('endpoint'),\n",
        "                         regexp_extract('value', method_uri_protocol_pattern, 3).alias('protocol'),\n",
        "                         regexp_extract('value', status_pattern, 1).cast('integer').alias('status'),\n",
        "                         regexp_extract('value', content_size_pattern, 1).cast('integer').alias('content_size'))\n",
        "logs_data.show(20, truncate=True)\n",
        "print((logs_data.count(), len(logs_data.columns)))"
      ]
    },
    {
      "cell_type": "markdown",
      "metadata": {
        "id": "iA-z0UQxw9kB"
      },
      "source": [
        "#step 1"
      ]
    },
    {
      "cell_type": "markdown",
      "metadata": {
        "id": "XjW5zSoVE6Qq"
      },
      "source": [
        "<div id=\"section1\"   dir='rtl'>\n",
        "    <h2>\n",
        "    در اولین گام از این بخش می خواهیم تعداد هاست های یکتا را پیدا کنیم که در این فایل هاست ها دونوع هستند یک سری  با ip مشخص شدند و یک سری دامنه هستند\n",
        "  </div>\n",
        "</h2>\n",
        "        <hr>"
      ]
    },
    {
      "cell_type": "markdown",
      "metadata": {
        "id": "ISzsht_UFWMK"
      },
      "source": [
        "<div id=\"section1\"   dir='rtl'>\n",
        "    <h2>\n",
        "برای اینکار از تابع select در اسپارک استفاده می کنیم تا ستون مدنظر را انتخاب کنیم سپس با استفاده از تابع distinct که مقادیر تکرار شده را حذف می کند، استفاده می کنیم ( صرفا هاست های uniqe را به ما می دهد)  و در نهایت با دستور count تعداد را می شماریم. همه ی این کارها را در یک خط می توان انجام داد\n",
        "  </div>\n",
        "</h2>\n",
        "        <hr>"
      ]
    },
    {
      "cell_type": "code",
      "execution_count": 13,
      "metadata": {
        "colab": {
          "base_uri": "https://localhost:8080/"
        },
        "id": "Ttsjvt8LpBN2",
        "outputId": "2a0dde93-5c16-4f5b-b484-f13f41dd8c52"
      },
      "outputs": [
        {
          "data": {
            "text/plain": [
              "81961"
            ]
          },
          "execution_count": 13,
          "metadata": {
            "tags": []
          },
          "output_type": "execute_result"
        }
      ],
      "source": [
        "unique_host = (logs_data.select('host').distinct().count())\n",
        "unique_host"
      ]
    },
    {
      "cell_type": "markdown",
      "metadata": {
        "id": "iFNk6-N1zFXq"
      },
      "source": [
        "#step2"
      ]
    },
    {
      "cell_type": "markdown",
      "metadata": {
        "id": "YyfPxyNZGO7_"
      },
      "source": [
        "<div id=\"section1\"   dir='rtl'>\n",
        "    <h2>\n",
        "این گام 2 بخش دارد در بخش اول از ما خواسته شده که تعداد درخواست های روزانه برای  هر هاست منحصر به فرد را به دست اوریم\n",
        "  </div>\n",
        "</h2>\n",
        "        <hr>"
      ]
    },
    {
      "cell_type": "markdown",
      "metadata": {
        "id": "TkuU3NxgGtdW"
      },
      "source": [
        "<div id=\"section1\"   dir='rtl'>\n",
        "    <h2>\n",
        "با میس ولیوها کاری نداریم صرفا برای اینکه ببینیم در این دیتاست چه تعداد میس ولیو وجود دارد می توانیم ار تابع پایه filter در اسپارک و isNull برای هر ستون استفاده کنیم و در نهایت با تابع count تعداد کل را بشماریم \n",
        "  </div>\n",
        "</h2>\n",
        "        <hr>"
      ]
    },
    {
      "cell_type": "code",
      "execution_count": 14,
      "metadata": {
        "colab": {
          "base_uri": "https://localhost:8080/"
        },
        "id": "40_SIqU53pPZ",
        "outputId": "2c41f7e2-ae65-4db8-c68c-3571996b1b91"
      },
      "outputs": [
        {
          "data": {
            "text/plain": [
              "19727"
            ]
          },
          "execution_count": 14,
          "metadata": {
            "tags": []
          },
          "output_type": "execute_result"
        }
      ],
      "source": [
        "nullcolumns= logs_data.filter(logs_data['host'].isNull()|\n",
        "                             logs_data['timestamp'].isNull() |\n",
        "                             logs_data['method'].isNull() |\n",
        "                             logs_data['endpoint'].isNull() |\n",
        "                             logs_data['status'].isNull() |\n",
        "                             logs_data['content_size'].isNull()|\n",
        "                             logs_data['protocol'].isNull())\n",
        "nullcolumns.count()"
      ]
    },
    {
      "cell_type": "markdown",
      "metadata": {
        "id": "O_FnRdcf4typ"
      },
      "source": [
        "**we have over 19K missing values in our data!** "
      ]
    },
    {
      "cell_type": "code",
      "execution_count": 15,
      "metadata": {
        "id": "QVxXnl6UNJt_"
      },
      "outputs": [],
      "source": [
        "from pyspark.sql.functions import split"
      ]
    },
    {
      "cell_type": "markdown",
      "metadata": {
        "id": "6cxtS65cHjDz"
      },
      "source": [
        "<div id=\"section1\"   dir='rtl'>\n",
        "    <h2>\n",
        "اولین کاری که برای بخش اول باید انجام دهیم چون به صورت روزانه از ماخواسته شده پس باید ستون تاریخ را جدا کنیم برای اینکار date  را از زمان از  timestamp جدا می کنیم که کافی است به الگوی timestamp نگاه کنیم و ببینیم تاریخ به وسیله : از زمان جدا شده است.(می توانستیم یکسره روز را از timestamp جدا کنیم و دیگر لزومی به ساختن ستون جدید به نام Date نباشد اما من شک کردم که نکند ماه های دیگر یا سال های دیگرم در این تاریخ دخیل باشند چون در ان صورت ریزالت متفاوت می شد برای همین ابتدا ستون تاریخ را جدا می کنم و بعد در ادامه متوجه می شوم که نه صرفا اطلاعات 28 روز از ماه یکسان در تاریخ 1995 است)\n",
        "  </div>\n",
        "</h2>\n",
        "        <hr>"
      ]
    },
    {
      "cell_type": "code",
      "execution_count": 16,
      "metadata": {
        "id": "uHpwaJuvwUf7"
      },
      "outputs": [],
      "source": [
        "split_cols = split(logs_data['timestamp'], '\\:')\n"
      ]
    },
    {
      "cell_type": "markdown",
      "metadata": {
        "id": "yUAnoOfg9E2d"
      },
      "source": [
        "<div id=\"section1\"   dir='rtl'>\n",
        "    <h2>\n",
        "سپس با استفاده از تابع getitem  خانه ی اول ستون timestamp که تاریخ است را دریافت و در ستون جدید به اسم Date می ریزیم\n",
        "  </div>\n",
        "</h2>\n",
        "        <hr>"
      ]
    },
    {
      "cell_type": "code",
      "execution_count": 17,
      "metadata": {
        "colab": {
          "base_uri": "https://localhost:8080/",
          "height": 521
        },
        "id": "I6_FZRgTw5hW",
        "outputId": "732c9098-a738-4437-fcec-7de2f3ecde1e"
      },
      "outputs": [
        {
          "data": {
            "text/html": [
              "<table border='1'>\n",
              "<tr><th>host</th><th>timestamp</th><th>method</th><th>endpoint</th><th>protocol</th><th>status</th><th>content_size</th><th>Date</th></tr>\n",
              "<tr><td>199.72.81.55</td><td>01/Jul/1995:00:00...</td><td>GET</td><td>/history/apollo/</td><td>HTTP/1.0</td><td>200</td><td>6245</td><td>01/Jul/1995</td></tr>\n",
              "<tr><td>unicomp6.unicomp.net</td><td>01/Jul/1995:00:00...</td><td>GET</td><td>/shuttle/countdown/</td><td>HTTP/1.0</td><td>200</td><td>3985</td><td>01/Jul/1995</td></tr>\n",
              "<tr><td>199.120.110.21</td><td>01/Jul/1995:00:00...</td><td>GET</td><td>/shuttle/missions...</td><td>HTTP/1.0</td><td>200</td><td>4085</td><td>01/Jul/1995</td></tr>\n",
              "<tr><td>burger.letters.com</td><td>01/Jul/1995:00:00...</td><td>GET</td><td>/shuttle/countdow...</td><td>HTTP/1.0</td><td>304</td><td>0</td><td>01/Jul/1995</td></tr>\n",
              "<tr><td>199.120.110.21</td><td>01/Jul/1995:00:00...</td><td>GET</td><td>/shuttle/missions...</td><td>HTTP/1.0</td><td>200</td><td>4179</td><td>01/Jul/1995</td></tr>\n",
              "<tr><td>burger.letters.com</td><td>01/Jul/1995:00:00...</td><td>GET</td><td>/images/NASA-logo...</td><td>HTTP/1.0</td><td>304</td><td>0</td><td>01/Jul/1995</td></tr>\n",
              "<tr><td>burger.letters.com</td><td>01/Jul/1995:00:00...</td><td>GET</td><td>/shuttle/countdow...</td><td>HTTP/1.0</td><td>200</td><td>0</td><td>01/Jul/1995</td></tr>\n",
              "<tr><td>205.212.115.106</td><td>01/Jul/1995:00:00...</td><td>GET</td><td>/shuttle/countdow...</td><td>HTTP/1.0</td><td>200</td><td>3985</td><td>01/Jul/1995</td></tr>\n",
              "<tr><td>d104.aa.net</td><td>01/Jul/1995:00:00...</td><td>GET</td><td>/shuttle/countdown/</td><td>HTTP/1.0</td><td>200</td><td>3985</td><td>01/Jul/1995</td></tr>\n",
              "<tr><td>129.94.144.152</td><td>01/Jul/1995:00:00...</td><td>GET</td><td>/</td><td>HTTP/1.0</td><td>200</td><td>7074</td><td>01/Jul/1995</td></tr>\n",
              "<tr><td>unicomp6.unicomp.net</td><td>01/Jul/1995:00:00...</td><td>GET</td><td>/shuttle/countdow...</td><td>HTTP/1.0</td><td>200</td><td>40310</td><td>01/Jul/1995</td></tr>\n",
              "<tr><td>unicomp6.unicomp.net</td><td>01/Jul/1995:00:00...</td><td>GET</td><td>/images/NASA-logo...</td><td>HTTP/1.0</td><td>200</td><td>786</td><td>01/Jul/1995</td></tr>\n",
              "<tr><td>unicomp6.unicomp.net</td><td>01/Jul/1995:00:00...</td><td>GET</td><td>/images/KSC-logos...</td><td>HTTP/1.0</td><td>200</td><td>1204</td><td>01/Jul/1995</td></tr>\n",
              "<tr><td>d104.aa.net</td><td>01/Jul/1995:00:00...</td><td>GET</td><td>/shuttle/countdow...</td><td>HTTP/1.0</td><td>200</td><td>40310</td><td>01/Jul/1995</td></tr>\n",
              "<tr><td>d104.aa.net</td><td>01/Jul/1995:00:00...</td><td>GET</td><td>/images/NASA-logo...</td><td>HTTP/1.0</td><td>200</td><td>786</td><td>01/Jul/1995</td></tr>\n",
              "<tr><td>d104.aa.net</td><td>01/Jul/1995:00:00...</td><td>GET</td><td>/images/KSC-logos...</td><td>HTTP/1.0</td><td>200</td><td>1204</td><td>01/Jul/1995</td></tr>\n",
              "<tr><td>129.94.144.152</td><td>01/Jul/1995:00:00...</td><td>GET</td><td>/images/ksclogo-m...</td><td>HTTP/1.0</td><td>304</td><td>0</td><td>01/Jul/1995</td></tr>\n",
              "<tr><td>199.120.110.21</td><td>01/Jul/1995:00:00...</td><td>GET</td><td>/images/launch-lo...</td><td>HTTP/1.0</td><td>200</td><td>1713</td><td>01/Jul/1995</td></tr>\n",
              "<tr><td>ppptky391.asahi-n...</td><td>01/Jul/1995:00:00...</td><td>GET</td><td>/facts/about_ksc....</td><td>HTTP/1.0</td><td>200</td><td>3977</td><td>01/Jul/1995</td></tr>\n",
              "<tr><td>net-1-141.eden.com</td><td>01/Jul/1995:00:00...</td><td>GET</td><td>/shuttle/missions...</td><td>HTTP/1.0</td><td>200</td><td>34029</td><td>01/Jul/1995</td></tr>\n",
              "</table>\n",
              "only showing top 20 rows\n"
            ],
            "text/plain": [
              "+--------------------+--------------------+------+--------------------+--------+------+------------+-----------+\n",
              "|                host|           timestamp|method|            endpoint|protocol|status|content_size|       Date|\n",
              "+--------------------+--------------------+------+--------------------+--------+------+------------+-----------+\n",
              "|        199.72.81.55|01/Jul/1995:00:00...|   GET|    /history/apollo/|HTTP/1.0|   200|        6245|01/Jul/1995|\n",
              "|unicomp6.unicomp.net|01/Jul/1995:00:00...|   GET| /shuttle/countdown/|HTTP/1.0|   200|        3985|01/Jul/1995|\n",
              "|      199.120.110.21|01/Jul/1995:00:00...|   GET|/shuttle/missions...|HTTP/1.0|   200|        4085|01/Jul/1995|\n",
              "|  burger.letters.com|01/Jul/1995:00:00...|   GET|/shuttle/countdow...|HTTP/1.0|   304|           0|01/Jul/1995|\n",
              "|      199.120.110.21|01/Jul/1995:00:00...|   GET|/shuttle/missions...|HTTP/1.0|   200|        4179|01/Jul/1995|\n",
              "|  burger.letters.com|01/Jul/1995:00:00...|   GET|/images/NASA-logo...|HTTP/1.0|   304|           0|01/Jul/1995|\n",
              "|  burger.letters.com|01/Jul/1995:00:00...|   GET|/shuttle/countdow...|HTTP/1.0|   200|           0|01/Jul/1995|\n",
              "|     205.212.115.106|01/Jul/1995:00:00...|   GET|/shuttle/countdow...|HTTP/1.0|   200|        3985|01/Jul/1995|\n",
              "|         d104.aa.net|01/Jul/1995:00:00...|   GET| /shuttle/countdown/|HTTP/1.0|   200|        3985|01/Jul/1995|\n",
              "|      129.94.144.152|01/Jul/1995:00:00...|   GET|                   /|HTTP/1.0|   200|        7074|01/Jul/1995|\n",
              "|unicomp6.unicomp.net|01/Jul/1995:00:00...|   GET|/shuttle/countdow...|HTTP/1.0|   200|       40310|01/Jul/1995|\n",
              "|unicomp6.unicomp.net|01/Jul/1995:00:00...|   GET|/images/NASA-logo...|HTTP/1.0|   200|         786|01/Jul/1995|\n",
              "|unicomp6.unicomp.net|01/Jul/1995:00:00...|   GET|/images/KSC-logos...|HTTP/1.0|   200|        1204|01/Jul/1995|\n",
              "|         d104.aa.net|01/Jul/1995:00:00...|   GET|/shuttle/countdow...|HTTP/1.0|   200|       40310|01/Jul/1995|\n",
              "|         d104.aa.net|01/Jul/1995:00:00...|   GET|/images/NASA-logo...|HTTP/1.0|   200|         786|01/Jul/1995|\n",
              "|         d104.aa.net|01/Jul/1995:00:00...|   GET|/images/KSC-logos...|HTTP/1.0|   200|        1204|01/Jul/1995|\n",
              "|      129.94.144.152|01/Jul/1995:00:00...|   GET|/images/ksclogo-m...|HTTP/1.0|   304|           0|01/Jul/1995|\n",
              "|      199.120.110.21|01/Jul/1995:00:00...|   GET|/images/launch-lo...|HTTP/1.0|   200|        1713|01/Jul/1995|\n",
              "|ppptky391.asahi-n...|01/Jul/1995:00:00...|   GET|/facts/about_ksc....|HTTP/1.0|   200|        3977|01/Jul/1995|\n",
              "|  net-1-141.eden.com|01/Jul/1995:00:00...|   GET|/shuttle/missions...|HTTP/1.0|   200|       34029|01/Jul/1995|\n",
              "+--------------------+--------------------+------+--------------------+--------+------+------------+-----------+\n",
              "only showing top 20 rows"
            ]
          },
          "execution_count": 17,
          "metadata": {
            "tags": []
          },
          "output_type": "execute_result"
        }
      ],
      "source": [
        "logs_data  = logs_data.withColumn('Date', split_cols.getItem(0))\n",
        "logs_data"
      ]
    },
    {
      "cell_type": "markdown",
      "metadata": {
        "id": "7AECc4TK9Z1d"
      },
      "source": [
        "<div id=\"section1\"   dir='rtl'>\n",
        "    <h2>\n",
        "می توانیم با همین ستون به صورت کلی کار کنیم چون من با روش زیر دیدم کلا 28 روز در این دیتاست داریم و ماه و سال یکی است ولی من ترجیح دادم یکسره با ستون روز ستون timestamp کار کنم که فرقی نمی کند ریزالت یکی است. .\n",
        "  </div>\n",
        "</h2>\n",
        "        <hr>"
      ]
    },
    {
      "cell_type": "code",
      "execution_count": 18,
      "metadata": {
        "id": "FV2jpjl_ABqE"
      },
      "outputs": [],
      "source": [
        "from pyspark.sql.functions import col\n"
      ]
    },
    {
      "cell_type": "code",
      "execution_count": 19,
      "metadata": {
        "colab": {
          "base_uri": "https://localhost:8080/"
        },
        "id": "-WAbiQT78GrD",
        "outputId": "9de4f53a-b13d-49ac-f5fc-4e4e855834b5"
      },
      "outputs": [
        {
          "name": "stdout",
          "output_type": "stream",
          "text": [
            "+-----------+\n",
            "|       Date|\n",
            "+-----------+\n",
            "|28/Jul/1995|\n",
            "|27/Jul/1995|\n",
            "|26/Jul/1995|\n",
            "|25/Jul/1995|\n",
            "|24/Jul/1995|\n",
            "|23/Jul/1995|\n",
            "|22/Jul/1995|\n",
            "|21/Jul/1995|\n",
            "|20/Jul/1995|\n",
            "|19/Jul/1995|\n",
            "|18/Jul/1995|\n",
            "|17/Jul/1995|\n",
            "|16/Jul/1995|\n",
            "|15/Jul/1995|\n",
            "|14/Jul/1995|\n",
            "|13/Jul/1995|\n",
            "|12/Jul/1995|\n",
            "|11/Jul/1995|\n",
            "|10/Jul/1995|\n",
            "|09/Jul/1995|\n",
            "|08/Jul/1995|\n",
            "|07/Jul/1995|\n",
            "|06/Jul/1995|\n",
            "|05/Jul/1995|\n",
            "|04/Jul/1995|\n",
            "|03/Jul/1995|\n",
            "|02/Jul/1995|\n",
            "|01/Jul/1995|\n",
            "|           |\n",
            "+-----------+\n",
            "\n"
          ]
        }
      ],
      "source": [
        "unique_Date = (logs_data.select('Date').distinct()).orderBy(col(\"Date\").desc())\n",
        "unique_Date.show(30)"
      ]
    },
    {
      "cell_type": "markdown",
      "metadata": {
        "id": "u9GCJ9ud6OKC"
      },
      "source": [
        "<div id=\"section1\"   dir='rtl'>\n",
        "   \n",
        "   <div id=\"section1\"   dir='rtl'>\n",
        "    <h2>\n",
        "\n",
        "  </div>\n",
        "</h2>\n",
        "        <hr> <h2>\n",
        " از تابع split استفاده می کنیم      .اگر به فرمت ستون timestamp نگاه کنیم، متوجه می شویم روز و ماه و سال  به صورت / از هم جدا شدند،  پس کافی است انها را به صورت / از هم جدا کنیم سپس می بینیم که همون خانه ی صفر روز است و روز را دریافت ودر یک ستون جدید به نام day می ریزیم\n",
        " \n",
        "  </div>\n",
        "</h2>\n",
        "        <hr>"
      ]
    },
    {
      "cell_type": "code",
      "execution_count": 20,
      "metadata": {
        "id": "hWs58kg73o5P"
      },
      "outputs": [],
      "source": [
        "split_cols3 = split(logs_data['timestamp'], '/')\n",
        "logs_data = logs_data.withColumn('day', split_cols3.getItem(0))"
      ]
    },
    {
      "cell_type": "markdown",
      "metadata": {
        "id": "zR3zpQ58I4dG"
      },
      "source": [
        "#show new dataset with new column (day)"
      ]
    },
    {
      "cell_type": "code",
      "execution_count": 21,
      "metadata": {
        "colab": {
          "base_uri": "https://localhost:8080/"
        },
        "id": "Z-DI1pqgNbB_",
        "outputId": "4522a663-9407-405b-ad00-93a72864553f"
      },
      "outputs": [
        {
          "name": "stdout",
          "output_type": "stream",
          "text": [
            "+--------------------+--------------------+------+--------------------+--------+------+------------+-----------+---+\n",
            "|                host|           timestamp|method|            endpoint|protocol|status|content_size|       Date|day|\n",
            "+--------------------+--------------------+------+--------------------+--------+------+------------+-----------+---+\n",
            "|        199.72.81.55|01/Jul/1995:00:00...|   GET|    /history/apollo/|HTTP/1.0|   200|        6245|01/Jul/1995| 01|\n",
            "|unicomp6.unicomp.net|01/Jul/1995:00:00...|   GET| /shuttle/countdown/|HTTP/1.0|   200|        3985|01/Jul/1995| 01|\n",
            "|      199.120.110.21|01/Jul/1995:00:00...|   GET|/shuttle/missions...|HTTP/1.0|   200|        4085|01/Jul/1995| 01|\n",
            "|  burger.letters.com|01/Jul/1995:00:00...|   GET|/shuttle/countdow...|HTTP/1.0|   304|           0|01/Jul/1995| 01|\n",
            "|      199.120.110.21|01/Jul/1995:00:00...|   GET|/shuttle/missions...|HTTP/1.0|   200|        4179|01/Jul/1995| 01|\n",
            "|  burger.letters.com|01/Jul/1995:00:00...|   GET|/images/NASA-logo...|HTTP/1.0|   304|           0|01/Jul/1995| 01|\n",
            "|  burger.letters.com|01/Jul/1995:00:00...|   GET|/shuttle/countdow...|HTTP/1.0|   200|           0|01/Jul/1995| 01|\n",
            "|     205.212.115.106|01/Jul/1995:00:00...|   GET|/shuttle/countdow...|HTTP/1.0|   200|        3985|01/Jul/1995| 01|\n",
            "|         d104.aa.net|01/Jul/1995:00:00...|   GET| /shuttle/countdown/|HTTP/1.0|   200|        3985|01/Jul/1995| 01|\n",
            "|      129.94.144.152|01/Jul/1995:00:00...|   GET|                   /|HTTP/1.0|   200|        7074|01/Jul/1995| 01|\n",
            "|unicomp6.unicomp.net|01/Jul/1995:00:00...|   GET|/shuttle/countdow...|HTTP/1.0|   200|       40310|01/Jul/1995| 01|\n",
            "|unicomp6.unicomp.net|01/Jul/1995:00:00...|   GET|/images/NASA-logo...|HTTP/1.0|   200|         786|01/Jul/1995| 01|\n",
            "|unicomp6.unicomp.net|01/Jul/1995:00:00...|   GET|/images/KSC-logos...|HTTP/1.0|   200|        1204|01/Jul/1995| 01|\n",
            "|         d104.aa.net|01/Jul/1995:00:00...|   GET|/shuttle/countdow...|HTTP/1.0|   200|       40310|01/Jul/1995| 01|\n",
            "|         d104.aa.net|01/Jul/1995:00:00...|   GET|/images/NASA-logo...|HTTP/1.0|   200|         786|01/Jul/1995| 01|\n",
            "|         d104.aa.net|01/Jul/1995:00:00...|   GET|/images/KSC-logos...|HTTP/1.0|   200|        1204|01/Jul/1995| 01|\n",
            "|      129.94.144.152|01/Jul/1995:00:00...|   GET|/images/ksclogo-m...|HTTP/1.0|   304|           0|01/Jul/1995| 01|\n",
            "|      199.120.110.21|01/Jul/1995:00:00...|   GET|/images/launch-lo...|HTTP/1.0|   200|        1713|01/Jul/1995| 01|\n",
            "|ppptky391.asahi-n...|01/Jul/1995:00:00...|   GET|/facts/about_ksc....|HTTP/1.0|   200|        3977|01/Jul/1995| 01|\n",
            "|  net-1-141.eden.com|01/Jul/1995:00:00...|   GET|/shuttle/missions...|HTTP/1.0|   200|       34029|01/Jul/1995| 01|\n",
            "+--------------------+--------------------+------+--------------------+--------+------+------------+-----------+---+\n",
            "only showing top 20 rows\n",
            "\n"
          ]
        }
      ],
      "source": [
        "logs_data.show(20, truncate=True)"
      ]
    },
    {
      "cell_type": "markdown",
      "metadata": {
        "id": "f6WECxlrVetP"
      },
      "source": [
        "##first part of this step"
      ]
    },
    {
      "cell_type": "markdown",
      "metadata": {
        "id": "p_4PUfkpJEKF"
      },
      "source": [
        "<div id=\"section1\"   dir='rtl'>\n",
        "    <h2>\n",
        "در ادامه  2 ستون روز و هاست را با دستور select ار دیتاست جدا می کنیم چون صرفا با این دو ستون کار داریم\n",
        "  </div>\n",
        "</h2>\n",
        "        <hr>"
      ]
    },
    {
      "cell_type": "code",
      "execution_count": 22,
      "metadata": {
        "colab": {
          "base_uri": "https://localhost:8080/"
        },
        "id": "Rr2RVW0G3Bu4",
        "outputId": "3a24a0e5-6a8b-48f8-ccb1-ff64e801e53c"
      },
      "outputs": [
        {
          "name": "stdout",
          "output_type": "stream",
          "text": [
            "+--------------------+---+\n",
            "|host                |day|\n",
            "+--------------------+---+\n",
            "|199.72.81.55        |01 |\n",
            "|unicomp6.unicomp.net|01 |\n",
            "|199.120.110.21      |01 |\n",
            "|burger.letters.com  |01 |\n",
            "|199.120.110.21      |01 |\n",
            "|burger.letters.com  |01 |\n",
            "|burger.letters.com  |01 |\n",
            "|205.212.115.106     |01 |\n",
            "|d104.aa.net         |01 |\n",
            "|129.94.144.152      |01 |\n",
            "+--------------------+---+\n",
            "only showing top 10 rows\n",
            "\n"
          ]
        }
      ],
      "source": [
        "host_day_df = logs_data.select(logs_data.host,logs_data.day)  \n",
        "host_day_df.show(10, truncate=False)"
      ]
    },
    {
      "cell_type": "markdown",
      "metadata": {
        "id": "vIp5iHp2Jeko"
      },
      "source": [
        "<div id=\"section1\"   dir='rtl'>\n",
        "    <h2>\n",
        "برای اینکه ببینیم هر هاست منحصر به فرد در هر روز چه تعداد از سایت مثلا بازدید کرده است از دستور groupby استفاده می کنیم و بر اساس روز و هاست گروه بندی می کنیم و تعداد بازدید برای هر هاست منحصر به فرد را برای هر روز به دست می اوریم.\n",
        ")من  این سوال را از اقای بنایی پرسیدم و ایشون فرمودند متوسط در بخش اول اضافی است و انرا حذف کنیم بنابراین من هم تعداد را در بخش اول صرفا بدست اوردم\n",
        "  </div>\n",
        "</h2>\n",
        "        <hr>"
      ]
    },
    {
      "cell_type": "code",
      "execution_count": 24,
      "metadata": {
        "colab": {
          "base_uri": "https://localhost:8080/"
        },
        "id": "hx0YWficVM8p",
        "outputId": "dff9def7-355d-4d8d-dc30-4983c78c147c"
      },
      "outputs": [
        {
          "name": "stdout",
          "output_type": "stream",
          "text": [
            "+--------------------+---+-----+\n",
            "|                host|day|count|\n",
            "+--------------------+---+-----+\n",
            "|ip36.herndon2.va....| 01|    6|\n",
            "| modem72.ucdavis.edu| 01|    5|\n",
            "|         202.6.90.68| 01|   24|\n",
            "|dialup97-045.swip...| 01|    9|\n",
            "| perseus.peganet.com| 01|    1|\n",
            "|kenwong.magna.com.au| 01|    4|\n",
            "| p235.infolink.co.za| 01|    7|\n",
            "|bridgewater-ts-11...| 01|    4|\n",
            "|halifax-ts4-05.ns...| 01|   16|\n",
            "|  port19.wasatch.com| 01|    4|\n",
            "| fouad.ncsa.uiuc.edu| 01|    3|\n",
            "|       137.91.20.212| 01|    4|\n",
            "|port11.gateway2.i...| 01|    9|\n",
            "|dd14-041.compuser...| 01|    1|\n",
            "| arnetpc-204.arn.net| 01|    4|\n",
            "|ziggurat.nightmar...| 01|    9|\n",
            "|pm-nb1-49.coastal...| 01|   14|\n",
            "|       204.254.185.9| 01|    9|\n",
            "| tty19-01.swipnet.se| 01|    7|\n",
            "|tip-mp5-ncs-4.sta...| 01|    4|\n",
            "|     141.244.135.146| 01|   29|\n",
            "| trillian.execpc.com| 01|    9|\n",
            "|ix-wp1-14.ix.netc...| 01|   10|\n",
            "|        rsd.xnet.com| 01|   15|\n",
            "|slip168-91.sy.au....| 01|    4|\n",
            "|        134.190.9.69| 01|   11|\n",
            "| dp030.ppp.iglou.com| 01|    7|\n",
            "|ppp-13-nerdc-ts4....| 01|    4|\n",
            "|    essex.connix.com| 01|    5|\n",
            "|hdl01.mfcf.uwater...| 01|    3|\n",
            "|      198.104.162.38| 01|    4|\n",
            "|      192.195.197.23| 02|    3|\n",
            "|corp-uu.infoseek.com| 02|   19|\n",
            "|  dial54.phoenix.net| 02|    1|\n",
            "|      out.ibm.com.au| 02|    8|\n",
            "|ix-lv4-27.ix.netc...| 02|    2|\n",
            "|         info.hut.fi| 02|    6|\n",
            "|    p6.superlink.net| 02|    9|\n",
            "| vega.info.isbiel.ch| 02|    2|\n",
            "|rcummins.ppp.cybe...| 02|    4|\n",
            "|  login22.pncl.co.uk| 02|   11|\n",
            "|     tere.npi.msu.su| 02|    4|\n",
            "| dialin-27.eznet.net| 02|   22|\n",
            "|cisco-ts5-line34....| 02|   66|\n",
            "|         199.4.70.71| 02|    4|\n",
            "| fisher.lycoming.edu| 02|   23|\n",
            "|blv-pm0-ip30.halc...| 02|    5|\n",
            "|ad01-004.compuser...| 02|    1|\n",
            "|      204.57.193.130| 02|    6|\n",
            "|      202.250.169.10| 02|   10|\n",
            "|     199.218.120.100| 02|   15|\n",
            "|blv-pm3-ip4.halcy...| 03|  149|\n",
            "|  ppp-3-30.iadfw.net| 03|   54|\n",
            "|ad05-046.compuser...| 03|    6|\n",
            "|ts01-ind-24.iques...| 03|    2|\n",
            "|  demo.central.co.nz| 03|   25|\n",
            "|ipxpc237.rz.uni-p...| 03|    4|\n",
            "|      pm2-36.tvs.net| 03|    8|\n",
            "|yogi.aeolians.bt....| 03|    4|\n",
            "|     dip043.pixi.com| 03|    7|\n",
            "|str12b-18.cc.kcl....| 03|   14|\n",
            "|manx.labs.cis.pit...| 03|   10|\n",
            "|dhcp-241-47.phibr...| 03|    2|\n",
            "|      gate.uwe.ac.uk| 03|   15|\n",
            "|  grail912.nando.net| 03|   19|\n",
            "|       130.181.13.25| 03|    2|\n",
            "|bolero.gsfc.nasa.gov| 03|    1|\n",
            "|     128.159.114.113| 03|    6|\n",
            "|      asp.coresw.com| 03|   16|\n",
            "|       129.252.86.72| 03|    7|\n",
            "|    asc1.sdstate.edu| 03|    9|\n",
            "|wilke2.housing.un...| 03|   21|\n",
            "|    htlulx.htl-bw.ch| 03|    8|\n",
            "|    server08.imt.net| 03|   10|\n",
            "|      modem1r.cbs.dk| 03|   10|\n",
            "|       152.71.71.221| 03|   18|\n",
            "|       128.165.90.39| 03|   31|\n",
            "|    dyn-26.direct.ca| 03|    5|\n",
            "|dd04-004.compuser...| 03|    8|\n",
            "|     gbms01.uwgb.edu| 03|    9|\n",
            "|port57.annex6.net...| 03|   13|\n",
            "|      204.120.34.231| 03|    7|\n",
            "|      129.238.33.126| 03|    1|\n",
            "|        199.44.46.49| 04|    4|\n",
            "|   azure.dstc.edu.au| 04|  105|\n",
            "|     solioz.unibe.ch| 04|    9|\n",
            "|      156.80.204.184| 04|   12|\n",
            "|www.internode.net.au| 04|    5|\n",
            "|drjo016a137.embra...| 04|   15|\n",
            "|fserv.hrz.th-mers...| 04|    3|\n",
            "|ix-esc-ca1-21.ix....| 04|    1|\n",
            "|     public.iunet.it| 04|    6|\n",
            "| cava501.pn.onion.it| 04|    2|\n",
            "|kepler.physics.wm...| 04|   42|\n",
            "|dial-2.t1.tnmmrl....| 04|    6|\n",
            "|   ppp18.vestnett.no| 04|    9|\n",
            "|             fwi.com| 04|    1|\n",
            "|   hpcvsop.cv.hp.com| 04|    1|\n",
            "|grapenuts.execpc.com| 04|    1|\n",
            "|ts00-ind-17.iques...| 04|   18|\n",
            "+--------------------+---+-----+\n",
            "only showing top 100 rows\n",
            "\n"
          ]
        }
      ],
      "source": [
        "daily_hosts_df = (host_day_df.groupBy('host','day').count())                  \n",
        "daily_hosts_df.show(100)"
      ]
    },
    {
      "cell_type": "markdown",
      "metadata": {
        "id": "CPYuzhpyVist"
      },
      "source": [
        "##second part of this step"
      ]
    },
    {
      "cell_type": "markdown",
      "metadata": {
        "id": "-gacLX5VK4hT"
      },
      "source": [
        "<div id=\"section1\"   dir='rtl'>\n",
        "    <h2>\n",
        "در بخش دوم گفته شده که میانگین هر هاست را در به طور کلی در برای این سایت به دست اوریم که می توانیم صرفا یک میانگین کلی از تعدادی که برای هر هاست منحصر به فرد بدست اوردیم بگیریم تا ببینیم مثلا یک هاست مدنظر چه تعداد به طور کلی بازدید از سایت در طول این 28 روز داشته است(من به صورت سورت شده نشان دادم).\n",
        "  </div>\n",
        "</h2>\n",
        "        <hr>"
      ]
    },
    {
      "cell_type": "code",
      "execution_count": 25,
      "metadata": {
        "colab": {
          "base_uri": "https://localhost:8080/",
          "height": 521
        },
        "id": "Eipb_uth9y_t",
        "outputId": "57888dae-631d-467b-dcb7-ff21f5f73b44"
      },
      "outputs": [
        {
          "data": {
            "text/html": [
              "<table border='1'>\n",
              "<tr><th>host</th><th>avg(count)</th></tr>\n",
              "<tr><td>rush.internic.net</td><td>1119.0</td></tr>\n",
              "<tr><td>siltb10.orl.mmc.com</td><td>841.4444444444445</td></tr>\n",
              "<tr><td>piweba3y.prodigy.com</td><td>627.5714285714286</td></tr>\n",
              "<tr><td>marina.cea.berkel...</td><td>599.6666666666666</td></tr>\n",
              "<tr><td>alyssa.prodigy.com</td><td>523.4666666666667</td></tr>\n",
              "<tr><td>nidhogg.srl.calte...</td><td>506.5</td></tr>\n",
              "<tr><td>piweba4y.prodigy.com</td><td>482.9583333333333</td></tr>\n",
              "<tr><td>bill.ksc.nasa.gov</td><td>445.14285714285717</td></tr>\n",
              "<tr><td>spidey.cor.epa.gov</td><td>401.0</td></tr>\n",
              "<tr><td>hoohoo.ncsa.uiuc.edu</td><td>367.0</td></tr>\n",
              "<tr><td>pcmas.it.bton.ac.uk</td><td>353.0</td></tr>\n",
              "<tr><td>piweba1y.prodigy.com</td><td>352.42857142857144</td></tr>\n",
              "<tr><td>burger.letters.com</td><td>350.0</td></tr>\n",
              "<tr><td>dsingleton.tamu.edu</td><td>313.0</td></tr>\n",
              "<tr><td>rasputin.caltech.edu</td><td>296.0</td></tr>\n",
              "<tr><td>user24.bnn-net.or.jp</td><td>268.0</td></tr>\n",
              "<tr><td>currypc.fpl.mssta...</td><td>246.25</td></tr>\n",
              "<tr><td>f181-167.net.wisc...</td><td>244.0</td></tr>\n",
              "<tr><td>134.83.184.18</td><td>236.5</td></tr>\n",
              "<tr><td>163.206.89.4</td><td>233.61904761904762</td></tr>\n",
              "</table>\n",
              "only showing top 20 rows\n"
            ],
            "text/plain": [
              "+--------------------+------------------+\n",
              "|                host|        avg(count)|\n",
              "+--------------------+------------------+\n",
              "|   rush.internic.net|            1119.0|\n",
              "| siltb10.orl.mmc.com| 841.4444444444445|\n",
              "|piweba3y.prodigy.com| 627.5714285714286|\n",
              "|marina.cea.berkel...| 599.6666666666666|\n",
              "|  alyssa.prodigy.com| 523.4666666666667|\n",
              "|nidhogg.srl.calte...|             506.5|\n",
              "|piweba4y.prodigy.com| 482.9583333333333|\n",
              "|   bill.ksc.nasa.gov|445.14285714285717|\n",
              "|  spidey.cor.epa.gov|             401.0|\n",
              "|hoohoo.ncsa.uiuc.edu|             367.0|\n",
              "| pcmas.it.bton.ac.uk|             353.0|\n",
              "|piweba1y.prodigy.com|352.42857142857144|\n",
              "|  burger.letters.com|             350.0|\n",
              "| dsingleton.tamu.edu|             313.0|\n",
              "|rasputin.caltech.edu|             296.0|\n",
              "|user24.bnn-net.or.jp|             268.0|\n",
              "|currypc.fpl.mssta...|            246.25|\n",
              "|f181-167.net.wisc...|             244.0|\n",
              "|       134.83.184.18|             236.5|\n",
              "|        163.206.89.4|233.61904761904762|\n",
              "+--------------------+------------------+\n",
              "only showing top 20 rows"
            ]
          },
          "execution_count": 25,
          "metadata": {
            "tags": []
          },
          "output_type": "execute_result"
        }
      ],
      "source": [
        "total_hosts_df = (daily_hosts_df.groupBy('host').avg()).orderBy(col(\"avg(count)\").desc())                   \n",
        "total_hosts_df"
      ]
    },
    {
      "cell_type": "markdown",
      "metadata": {
        "id": "7G33Ow2Fb42Q"
      },
      "source": [
        "#step 3"
      ]
    },
    {
      "cell_type": "markdown",
      "metadata": {
        "id": "MMwQDaCNL0ju"
      },
      "source": [
        "<div id=\"section1\"   dir='rtl'>\n",
        "    <h2>\n",
        "در این گام از ما خواسته شده که تعداد فایل های گیف را بدست اوریم همانطور که می دانیم فایل های گیف در ستونendpoint هستندکه باز هم اگر به فرمت فایل های ذخیره شده در این ستون نگاه کنیم می بینیم قسمت انتهایی این ستون با نقطه جدا شده است و پس از تابع split استفاده می کنیم تا نام هر سطر این ستون را بشکانیم\n",
        "  </div>\n",
        "</h2>\n",
        "        <hr>"
      ]
    },
    {
      "cell_type": "code",
      "execution_count": 26,
      "metadata": {
        "id": "gmZFs-gp52oW"
      },
      "outputs": [],
      "source": [
        " from pyspark.sql.functions import size"
      ]
    },
    {
      "cell_type": "code",
      "execution_count": 27,
      "metadata": {
        "id": "9DAoAoys9ham"
      },
      "outputs": [],
      "source": [
        "split_dot = split(logs_data['endpoint'], '\\.')\n"
      ]
    },
    {
      "cell_type": "markdown",
      "metadata": {
        "id": "nj14qQWqMZXr"
      },
      "source": [
        "<div id=\"section1\"   dir='rtl'>\n",
        "    <h2>\n",
        "سپس یک ستون جدید به اسم فرمت فایل می سازیم که در این ستون مقادیری قرار می گیرند که در ستون endpoint با نقطه جدا شده بودند واز تابع getitem  استفاده می کنیم و با استفاده از تابع سایز در اسپارک هر کدام به یک خانه از ارایه تیدیل می شوند و خانه اخر را می گیریم که همون فرمت این فایل ها است.\n",
        "  </div>\n",
        "</h2>\n",
        "        <hr>"
      ]
    },
    {
      "cell_type": "code",
      "execution_count": 28,
      "metadata": {
        "id": "pSLV6BIKc5ot"
      },
      "outputs": [],
      "source": [
        "logs_data = logs_data.withColumn('formatfile', split_dot.getItem(size(split_dot) - 1))"
      ]
    },
    {
      "cell_type": "markdown",
      "metadata": {
        "id": "9LnyJf5rM5z0"
      },
      "source": [
        "<div id=\"section1\"   dir='rtl'>\n",
        "    <h2>\n",
        "در این ستون فرمت فایل ، فایل هایی که فرمت گیف دارند به دو صورت هستند هم با حرف کوچک و هم بزرگ، پس هر دو نوع را با استفاده از تابع filter پیدا می کنیم \n",
        "و با استفاده از count مقادیر این دو را جمع می کینم.\n",
        "  </div>\n",
        "</h2>\n",
        "        <hr>"
      ]
    },
    {
      "cell_type": "code",
      "execution_count": 29,
      "metadata": {
        "id": "X4So7ET7hZfn"
      },
      "outputs": [],
      "source": [
        "gifs_l = logs_data.filter((logs_data['formatfile'])=='gif')\n",
        "gifs_b = logs_data.filter((logs_data['formatfile'])=='GIF')"
      ]
    },
    {
      "cell_type": "code",
      "execution_count": 31,
      "metadata": {
        "colab": {
          "base_uri": "https://localhost:8080/"
        },
        "id": "ee-_eSHpeP81",
        "outputId": "fa3fe2d7-2fb8-42fe-c788-1ab7f0700a97"
      },
      "outputs": [
        {
          "name": "stdout",
          "output_type": "stream",
          "text": [
            "count of gif_GIF file :1043884\n"
          ]
        }
      ],
      "source": [
        "print(f\"count of gif_GIF file :{gifs_l.count()+gifs_b.count()}\")\n"
      ]
    },
    {
      "cell_type": "markdown",
      "metadata": {
        "id": "P3Vt_lUrlhc0"
      },
      "source": [
        "#step 4"
      ]
    },
    {
      "cell_type": "markdown",
      "metadata": {
        "id": "rywHW9UONki1"
      },
      "source": [
        "<div id=\"section1\"   dir='rtl'>\n",
        "    <h2>\n",
        "این گام دو بخش دارد در بخش اول از ما خواسته شده که دامنه های پرتقاضا بیش از 3 بار که صرفا دامنه هستند به صورت مرتب شده نشان دهیم برای اینکار با دستور select ستون هاست را می گیریم\n",
        "  </div>\n",
        "</h2>\n",
        "        <hr>"
      ]
    },
    {
      "cell_type": "markdown",
      "metadata": {
        "id": "GnlfpaI6OGcb"
      },
      "source": [
        "##first part of this step"
      ]
    },
    {
      "cell_type": "code",
      "execution_count": 32,
      "metadata": {
        "colab": {
          "base_uri": "https://localhost:8080/"
        },
        "id": "ViSTKvuCl1-Q",
        "outputId": "fcf98fca-0116-4b34-e02d-a0ea748bfbca"
      },
      "outputs": [
        {
          "name": "stdout",
          "output_type": "stream",
          "text": [
            "+--------------------+\n",
            "|host                |\n",
            "+--------------------+\n",
            "|199.72.81.55        |\n",
            "|unicomp6.unicomp.net|\n",
            "|199.120.110.21      |\n",
            "|burger.letters.com  |\n",
            "|199.120.110.21      |\n",
            "|burger.letters.com  |\n",
            "|burger.letters.com  |\n",
            "|205.212.115.106     |\n",
            "|d104.aa.net         |\n",
            "|129.94.144.152      |\n",
            "+--------------------+\n",
            "only showing top 10 rows\n",
            "\n"
          ]
        }
      ],
      "source": [
        "most_host_df = logs_data.select(logs_data.host)\n",
        "most_host_df.show(10, truncate=False)"
      ]
    },
    {
      "cell_type": "markdown",
      "metadata": {
        "id": "K9yU8CToOeA0"
      },
      "source": [
        " <div id=\"section1\"   dir='rtl'>\n",
        "    <h2>\n",
        "ابتدا با دستور گروپ بای و count تعداد هر هاست منحصر به فرد را بدست می اوریم \n",
        "  </div>\n",
        "</h2>\n",
        "        <hr>\n",
        "                 "
      ]
    },
    {
      "cell_type": "code",
      "execution_count": 33,
      "metadata": {
        "colab": {
          "base_uri": "https://localhost:8080/",
          "height": 521
        },
        "id": "jUowY7C8huug",
        "outputId": "59adbc55-cd12-4c44-9cd8-053752b995b9"
      },
      "outputs": [
        {
          "data": {
            "text/html": [
              "<table border='1'>\n",
              "<tr><th>host</th><th>count</th></tr>\n",
              "<tr><td>ppp3_136.bekkoame...</td><td>39</td></tr>\n",
              "<tr><td>ppp31.texoma.com</td><td>21</td></tr>\n",
              "<tr><td>ix-wc7-20.ix.netc...</td><td>40</td></tr>\n",
              "<tr><td>nb1-du5.polarnet....</td><td>25</td></tr>\n",
              "<tr><td>ttyb5.shasta.com</td><td>19</td></tr>\n",
              "<tr><td>dialup00004.cinet...</td><td>10</td></tr>\n",
              "<tr><td>dd14-025.compuser...</td><td>18</td></tr>\n",
              "<tr><td>nigrlpr.actrix.ge...</td><td>3</td></tr>\n",
              "<tr><td>uckm001.pn.itnet.it</td><td>34</td></tr>\n",
              "<tr><td>queulen.puc.cl</td><td>87</td></tr>\n",
              "<tr><td>pipe2.nyc.pipelin...</td><td>253</td></tr>\n",
              "<tr><td>198.53.164.131</td><td>12</td></tr>\n",
              "<tr><td>asdsun.larc.nasa.gov</td><td>14</td></tr>\n",
              "<tr><td>pm45-52.smartlink...</td><td>5</td></tr>\n",
              "<tr><td>193.166.184.116</td><td>1</td></tr>\n",
              "<tr><td>194.20.34.120</td><td>29</td></tr>\n",
              "<tr><td>dd09-021.compuser...</td><td>14</td></tr>\n",
              "<tr><td>leo.racsa.co.cr</td><td>4</td></tr>\n",
              "<tr><td>freenet.carleton.ca</td><td>4</td></tr>\n",
              "<tr><td>enigma.idirect.com</td><td>794</td></tr>\n",
              "</table>\n",
              "only showing top 20 rows\n"
            ],
            "text/plain": [
              "+--------------------+-----+\n",
              "|                host|count|\n",
              "+--------------------+-----+\n",
              "|ppp3_136.bekkoame...|   39|\n",
              "|    ppp31.texoma.com|   21|\n",
              "|ix-wc7-20.ix.netc...|   40|\n",
              "|nb1-du5.polarnet....|   25|\n",
              "|    ttyb5.shasta.com|   19|\n",
              "|dialup00004.cinet...|   10|\n",
              "|dd14-025.compuser...|   18|\n",
              "|nigrlpr.actrix.ge...|    3|\n",
              "| uckm001.pn.itnet.it|   34|\n",
              "|      queulen.puc.cl|   87|\n",
              "|pipe2.nyc.pipelin...|  253|\n",
              "|      198.53.164.131|   12|\n",
              "|asdsun.larc.nasa.gov|   14|\n",
              "|pm45-52.smartlink...|    5|\n",
              "|     193.166.184.116|    1|\n",
              "|       194.20.34.120|   29|\n",
              "|dd09-021.compuser...|   14|\n",
              "|     leo.racsa.co.cr|    4|\n",
              "| freenet.carleton.ca|    4|\n",
              "|  enigma.idirect.com|  794|\n",
              "+--------------------+-----+\n",
              "only showing top 20 rows"
            ]
          },
          "execution_count": 33,
          "metadata": {
            "tags": []
          },
          "output_type": "execute_result"
        }
      ],
      "source": [
        "most_hosts_df = (most_host_df.groupBy('host').count())                    \n",
        "most_hosts_df"
      ]
    },
    {
      "cell_type": "markdown",
      "metadata": {
        "id": "unWSCtZcO-Fw"
      },
      "source": []
    },
    {
      "cell_type": "markdown",
      "metadata": {
        "id": "EUPhHAxlPLNm"
      },
      "source": [
        "<div id=\"section1\"   dir='rtl'>\n",
        "    <h2>\n",
        "از انجایی که در صورت سوال ذکر شده است که در هاست صرفا دامنه ها گرفته شود یک راه این است که یک ستون جدید اضافه کنم و کسانی که دامنه هستند را در ان ستون نال کنیم و از این ستون نال شده برای دامنه استفاده کنیم در ادامه بیشتر توضیح می دهم\n",
        "  </div>\n",
        "</h2>\n",
        "        <hr>"
      ]
    },
    {
      "cell_type": "markdown",
      "metadata": {
        "id": "Vz_JtnTqPMkM"
      },
      "source": [
        "<div id=\"section1\"   dir='rtl'>\n",
        "    <h2>\n",
        "برای ایجاد یک ستون جدید به این طریق عمل می کنیم که به فرمت دامنه ها و ip ها در ستون هاست نگاه می کنیم، می بینیم که با نقطه از هم جدا شدند و ما می توانی با قسمت اخر این فرمت ناهم کار کنیم چون فرمت های ip قسمت اخرشان عدد هستند اما فرمت دامنه قسمت اخرشان حرف مثلا comو... هستند \n",
        "ابتدا از دستور split استفاده می کنیم\n",
        "  </div>\n",
        "</h2>\n",
        "        <hr>"
      ]
    },
    {
      "cell_type": "code",
      "execution_count": 34,
      "metadata": {
        "id": "satSKEbphuTa"
      },
      "outputs": [],
      "source": [
        "splitname= split(most_hosts_df['host'], '\\.')\n"
      ]
    },
    {
      "cell_type": "markdown",
      "metadata": {
        "id": "t8jyHapjQr-h"
      },
      "source": [
        "<div id=\"section1\"   dir='rtl'>\n",
        "    <h2>\n",
        "<div id=\"section1\"   dir='rtl'>\n",
        "    <h2>\n",
        "سپس یک ستون جدید به اسم  name می سازیم که در این ستون مقادیری قرار می گیرند که در ستون host با نقطه جدا شده بودند واز تابع getitem  استفاده می کنیم و با استفاده از تابع سایز در اسپارک هر کدام به یک خانه از ارایه تیدیل می شوند و خانه اخر را می گیریم .\n",
        "  </div>\n",
        "</h2>\n",
        "        <hr>\n",
        "  </div>\n",
        "</h2>\n",
        "        <hr>"
      ]
    },
    {
      "cell_type": "code",
      "execution_count": 35,
      "metadata": {
        "colab": {
          "base_uri": "https://localhost:8080/",
          "height": 521
        },
        "id": "29giX8RaiF2i",
        "outputId": "bf2145eb-0706-4cd3-dbb8-778093be3d64"
      },
      "outputs": [
        {
          "data": {
            "text/html": [
              "<table border='1'>\n",
              "<tr><th>host</th><th>count</th><th>name</th></tr>\n",
              "<tr><td>ppp3_136.bekkoame...</td><td>39</td><td>jp</td></tr>\n",
              "<tr><td>ppp31.texoma.com</td><td>21</td><td>com</td></tr>\n",
              "<tr><td>ix-wc7-20.ix.netc...</td><td>40</td><td>com</td></tr>\n",
              "<tr><td>nb1-du5.polarnet....</td><td>25</td><td>us</td></tr>\n",
              "<tr><td>ttyb5.shasta.com</td><td>19</td><td>com</td></tr>\n",
              "<tr><td>dialup00004.cinet...</td><td>10</td><td>net</td></tr>\n",
              "<tr><td>dd14-025.compuser...</td><td>18</td><td>com</td></tr>\n",
              "<tr><td>nigrlpr.actrix.ge...</td><td>3</td><td>nz</td></tr>\n",
              "<tr><td>uckm001.pn.itnet.it</td><td>34</td><td>it</td></tr>\n",
              "<tr><td>queulen.puc.cl</td><td>87</td><td>cl</td></tr>\n",
              "<tr><td>pipe2.nyc.pipelin...</td><td>253</td><td>com</td></tr>\n",
              "<tr><td>198.53.164.131</td><td>12</td><td>131</td></tr>\n",
              "<tr><td>asdsun.larc.nasa.gov</td><td>14</td><td>gov</td></tr>\n",
              "<tr><td>pm45-52.smartlink...</td><td>5</td><td>net</td></tr>\n",
              "<tr><td>193.166.184.116</td><td>1</td><td>116</td></tr>\n",
              "<tr><td>194.20.34.120</td><td>29</td><td>120</td></tr>\n",
              "<tr><td>dd09-021.compuser...</td><td>14</td><td>com</td></tr>\n",
              "<tr><td>leo.racsa.co.cr</td><td>4</td><td>cr</td></tr>\n",
              "<tr><td>freenet.carleton.ca</td><td>4</td><td>ca</td></tr>\n",
              "<tr><td>enigma.idirect.com</td><td>794</td><td>com</td></tr>\n",
              "</table>\n",
              "only showing top 20 rows\n"
            ],
            "text/plain": [
              "+--------------------+-----+----+\n",
              "|                host|count|name|\n",
              "+--------------------+-----+----+\n",
              "|ppp3_136.bekkoame...|   39|  jp|\n",
              "|    ppp31.texoma.com|   21| com|\n",
              "|ix-wc7-20.ix.netc...|   40| com|\n",
              "|nb1-du5.polarnet....|   25|  us|\n",
              "|    ttyb5.shasta.com|   19| com|\n",
              "|dialup00004.cinet...|   10| net|\n",
              "|dd14-025.compuser...|   18| com|\n",
              "|nigrlpr.actrix.ge...|    3|  nz|\n",
              "| uckm001.pn.itnet.it|   34|  it|\n",
              "|      queulen.puc.cl|   87|  cl|\n",
              "|pipe2.nyc.pipelin...|  253| com|\n",
              "|      198.53.164.131|   12| 131|\n",
              "|asdsun.larc.nasa.gov|   14| gov|\n",
              "|pm45-52.smartlink...|    5| net|\n",
              "|     193.166.184.116|    1| 116|\n",
              "|       194.20.34.120|   29| 120|\n",
              "|dd09-021.compuser...|   14| com|\n",
              "|     leo.racsa.co.cr|    4|  cr|\n",
              "| freenet.carleton.ca|    4|  ca|\n",
              "|  enigma.idirect.com|  794| com|\n",
              "+--------------------+-----+----+\n",
              "only showing top 20 rows"
            ]
          },
          "execution_count": 35,
          "metadata": {
            "tags": []
          },
          "output_type": "execute_result"
        }
      ],
      "source": [
        "most__hosts_df = most_hosts_df.withColumn('name', splitname.getItem(size(splitname) - 1))\n",
        "most__hosts_df"
      ]
    },
    {
      "cell_type": "markdown",
      "metadata": {
        "id": "fOPgp8OEROFk"
      },
      "source": [
        "<div id=\"section1\"   dir='rtl'>\n",
        "    <h2>\n",
        "در اینجا از sql استفاده می کنیم و خانه های ستون name را int می کنیم که این کار باعث می شود  دامنه ها که خانه ی اخر انها در این ستون قرار دارند و حرف هستند به null تبدیل شوند\n",
        "  </div>\n",
        "</h2>\n",
        "        <hr>"
      ]
    },
    {
      "cell_type": "code",
      "execution_count": 36,
      "metadata": {
        "colab": {
          "base_uri": "https://localhost:8080/",
          "height": 521
        },
        "id": "o7JrEFsIiFx7",
        "outputId": "bfd5fcf3-d9e7-466a-bedb-e7dc16f75ca4"
      },
      "outputs": [
        {
          "data": {
            "text/html": [
              "<table border='1'>\n",
              "<tr><th>host</th><th>count</th><th>name</th></tr>\n",
              "<tr><td>ppp3_136.bekkoame...</td><td>39</td><td>null</td></tr>\n",
              "<tr><td>ppp31.texoma.com</td><td>21</td><td>null</td></tr>\n",
              "<tr><td>ix-wc7-20.ix.netc...</td><td>40</td><td>null</td></tr>\n",
              "<tr><td>nb1-du5.polarnet....</td><td>25</td><td>null</td></tr>\n",
              "<tr><td>ttyb5.shasta.com</td><td>19</td><td>null</td></tr>\n",
              "<tr><td>dialup00004.cinet...</td><td>10</td><td>null</td></tr>\n",
              "<tr><td>dd14-025.compuser...</td><td>18</td><td>null</td></tr>\n",
              "<tr><td>nigrlpr.actrix.ge...</td><td>3</td><td>null</td></tr>\n",
              "<tr><td>uckm001.pn.itnet.it</td><td>34</td><td>null</td></tr>\n",
              "<tr><td>queulen.puc.cl</td><td>87</td><td>null</td></tr>\n",
              "<tr><td>pipe2.nyc.pipelin...</td><td>253</td><td>null</td></tr>\n",
              "<tr><td>198.53.164.131</td><td>12</td><td>131</td></tr>\n",
              "<tr><td>asdsun.larc.nasa.gov</td><td>14</td><td>null</td></tr>\n",
              "<tr><td>pm45-52.smartlink...</td><td>5</td><td>null</td></tr>\n",
              "<tr><td>193.166.184.116</td><td>1</td><td>116</td></tr>\n",
              "<tr><td>194.20.34.120</td><td>29</td><td>120</td></tr>\n",
              "<tr><td>dd09-021.compuser...</td><td>14</td><td>null</td></tr>\n",
              "<tr><td>leo.racsa.co.cr</td><td>4</td><td>null</td></tr>\n",
              "<tr><td>freenet.carleton.ca</td><td>4</td><td>null</td></tr>\n",
              "<tr><td>enigma.idirect.com</td><td>794</td><td>null</td></tr>\n",
              "</table>\n",
              "only showing top 20 rows\n"
            ],
            "text/plain": [
              "+--------------------+-----+----+\n",
              "|                host|count|name|\n",
              "+--------------------+-----+----+\n",
              "|ppp3_136.bekkoame...|   39|null|\n",
              "|    ppp31.texoma.com|   21|null|\n",
              "|ix-wc7-20.ix.netc...|   40|null|\n",
              "|nb1-du5.polarnet....|   25|null|\n",
              "|    ttyb5.shasta.com|   19|null|\n",
              "|dialup00004.cinet...|   10|null|\n",
              "|dd14-025.compuser...|   18|null|\n",
              "|nigrlpr.actrix.ge...|    3|null|\n",
              "| uckm001.pn.itnet.it|   34|null|\n",
              "|      queulen.puc.cl|   87|null|\n",
              "|pipe2.nyc.pipelin...|  253|null|\n",
              "|      198.53.164.131|   12| 131|\n",
              "|asdsun.larc.nasa.gov|   14|null|\n",
              "|pm45-52.smartlink...|    5|null|\n",
              "|     193.166.184.116|    1| 116|\n",
              "|       194.20.34.120|   29| 120|\n",
              "|dd09-021.compuser...|   14|null|\n",
              "|     leo.racsa.co.cr|    4|null|\n",
              "| freenet.carleton.ca|    4|null|\n",
              "|  enigma.idirect.com|  794|null|\n",
              "+--------------------+-----+----+\n",
              "only showing top 20 rows"
            ]
          },
          "execution_count": 36,
          "metadata": {
            "tags": []
          },
          "output_type": "execute_result"
        }
      ],
      "source": [
        "most__hosts_df.createOrReplaceTempView(\"CastExample\")\n",
        "df = spark.sql(\"SELECT host,count,int(name) from CastExample\")\n",
        "df"
      ]
    },
    {
      "cell_type": "markdown",
      "metadata": {
        "id": "kdw4hZt2Ru0V"
      },
      "source": [
        "<div id=\"section1\"   dir='rtl'>\n",
        "    <h2>\n",
        "سپس با استفاده از دستور filter ان سطرهایی که در ستون name نال هستند را دریافت می کنیم که این خانه ها، همان دامنه های ما هستند\n",
        "  </div>\n",
        "</h2>\n",
        "        <hr>"
      ]
    },
    {
      "cell_type": "code",
      "execution_count": 37,
      "metadata": {
        "id": "Dt73h8cwkMC3"
      },
      "outputs": [],
      "source": [
        "df=df.filter(df.name.isNull())"
      ]
    },
    {
      "cell_type": "code",
      "execution_count": 39,
      "metadata": {
        "id": "W0xGsotmlakG"
      },
      "outputs": [],
      "source": [
        "from pyspark.sql.functions import col\n"
      ]
    },
    {
      "cell_type": "markdown",
      "metadata": {
        "id": "eSqa1ukkSCL7"
      },
      "source": [
        "<div id=\"section1\"   dir='rtl'>\n",
        "    <h2>\n",
        "سپس کافی است با استفاده از filter دامنه هایی که تعداد بازدیدشان بیشتر از 3 هست را دریافت و بر اساس تعداد انها را سورت کنیم و نشان دهیم\n",
        "  </div>\n",
        "</h2>\n",
        "        <hr>"
      ]
    },
    {
      "cell_type": "code",
      "execution_count": 40,
      "metadata": {
        "colab": {
          "base_uri": "https://localhost:8080/",
          "height": 521
        },
        "id": "a5CR4UTtiFwN",
        "outputId": "93b2343a-daa2-4922-8464-cc8715430758"
      },
      "outputs": [
        {
          "data": {
            "text/html": [
              "<table border='1'>\n",
              "<tr><th>host</th><th>count</th></tr>\n",
              "<tr><td>piweba3y.prodigy.com</td><td>17572</td></tr>\n",
              "<tr><td>piweba4y.prodigy.com</td><td>11591</td></tr>\n",
              "<tr><td>piweba1y.prodigy.com</td><td>9868</td></tr>\n",
              "<tr><td>alyssa.prodigy.com</td><td>7852</td></tr>\n",
              "<tr><td>siltb10.orl.mmc.com</td><td>7573</td></tr>\n",
              "<tr><td>piweba2y.prodigy.com</td><td>5922</td></tr>\n",
              "<tr><td>edams.ksc.nasa.gov</td><td>5434</td></tr>\n",
              "<tr><td>news.ti.com</td><td>4863</td></tr>\n",
              "<tr><td></td><td>4797</td></tr>\n",
              "<tr><td>disarray.demon.co.uk</td><td>4353</td></tr>\n",
              "<tr><td>www-a2.proxy.aol.com</td><td>4179</td></tr>\n",
              "<tr><td>www-d1.proxy.aol.com</td><td>4158</td></tr>\n",
              "<tr><td>vagrant.vf.mmc.com</td><td>4146</td></tr>\n",
              "<tr><td>poppy.hensa.ac.uk</td><td>4117</td></tr>\n",
              "<tr><td>www-d4.proxy.aol.com</td><td>3977</td></tr>\n",
              "<tr><td>webgate1.mot.com</td><td>3843</td></tr>\n",
              "<tr><td>www-b3.proxy.aol.com</td><td>3755</td></tr>\n",
              "<tr><td>e659229.boeing.com</td><td>3737</td></tr>\n",
              "<tr><td>www-b2.proxy.aol.com</td><td>3732</td></tr>\n",
              "<tr><td>www-b4.proxy.aol.com</td><td>3679</td></tr>\n",
              "</table>\n",
              "only showing top 20 rows\n"
            ],
            "text/plain": [
              "+--------------------+-----+\n",
              "|                host|count|\n",
              "+--------------------+-----+\n",
              "|piweba3y.prodigy.com|17572|\n",
              "|piweba4y.prodigy.com|11591|\n",
              "|piweba1y.prodigy.com| 9868|\n",
              "|  alyssa.prodigy.com| 7852|\n",
              "| siltb10.orl.mmc.com| 7573|\n",
              "|piweba2y.prodigy.com| 5922|\n",
              "|  edams.ksc.nasa.gov| 5434|\n",
              "|         news.ti.com| 4863|\n",
              "|                    | 4797|\n",
              "|disarray.demon.co.uk| 4353|\n",
              "|www-a2.proxy.aol.com| 4179|\n",
              "|www-d1.proxy.aol.com| 4158|\n",
              "|  vagrant.vf.mmc.com| 4146|\n",
              "|   poppy.hensa.ac.uk| 4117|\n",
              "|www-d4.proxy.aol.com| 3977|\n",
              "|    webgate1.mot.com| 3843|\n",
              "|www-b3.proxy.aol.com| 3755|\n",
              "|  e659229.boeing.com| 3737|\n",
              "|www-b2.proxy.aol.com| 3732|\n",
              "|www-b4.proxy.aol.com| 3679|\n",
              "+--------------------+-----+\n",
              "only showing top 20 rows"
            ]
          },
          "execution_count": 40,
          "metadata": {
            "tags": []
          },
          "output_type": "execute_result"
        }
      ],
      "source": [
        "maxhost = (df.filter((df['count']>3)).orderBy(col(\"count\").desc()))\n",
        "maxhost.select('host','count')"
      ]
    },
    {
      "cell_type": "markdown",
      "metadata": {
        "id": "Mep53-lKllpz"
      },
      "source": [
        "second part of this step"
      ]
    },
    {
      "cell_type": "markdown",
      "metadata": {
        "id": "LfkgqrOBScXQ"
      },
      "source": [
        "<div id=\"section1\"   dir='rtl'>\n",
        "    <h2>\n",
        "در بخش دوم از این سوال از ما خواسته شده پرتقاضاترین دامنه های هر روز را بدست اوریم تا بخشی از کار مانند مرحله ی قبل است و در ابتدا ستون روز و هاست را دریافت می کنیم\n",
        "  </div>\n",
        "</h2>\n",
        "        <hr>"
      ]
    },
    {
      "cell_type": "code",
      "execution_count": 41,
      "metadata": {
        "colab": {
          "base_uri": "https://localhost:8080/"
        },
        "id": "5UZeHfdumuaH",
        "outputId": "2692d660-5537-4fb6-805a-5dcc108810a2"
      },
      "outputs": [
        {
          "name": "stdout",
          "output_type": "stream",
          "text": [
            "+--------------------+---+\n",
            "|host                |day|\n",
            "+--------------------+---+\n",
            "|199.72.81.55        |01 |\n",
            "|unicomp6.unicomp.net|01 |\n",
            "|199.120.110.21      |01 |\n",
            "|burger.letters.com  |01 |\n",
            "|199.120.110.21      |01 |\n",
            "|burger.letters.com  |01 |\n",
            "|burger.letters.com  |01 |\n",
            "|205.212.115.106     |01 |\n",
            "|d104.aa.net         |01 |\n",
            "|129.94.144.152      |01 |\n",
            "+--------------------+---+\n",
            "only showing top 10 rows\n",
            "\n"
          ]
        }
      ],
      "source": [
        "most_host_df_daily = logs_data.select(logs_data.host,logs_data.day)\n",
        "most_host_df_daily.show(10, truncate=False)"
      ]
    },
    {
      "cell_type": "markdown",
      "metadata": {
        "id": "k3NX_rIdSxwm"
      },
      "source": [
        "<div id=\"section1\"   dir='rtl'>\n",
        "    <h2>\n",
        "بر اسااس روز و هاست گروه بندی می کنیم تا تعداد هاست های منحصر به فرد هر روز را پیدا کنیم\n",
        "  </div>\n",
        "</h2>\n",
        "        <hr>"
      ]
    },
    {
      "cell_type": "code",
      "execution_count": 42,
      "metadata": {
        "colab": {
          "base_uri": "https://localhost:8080/",
          "height": 521
        },
        "id": "gVuMFAw_iFj4",
        "outputId": "ab9db32d-a96b-4a21-fb09-4d0ed31a3f47"
      },
      "outputs": [
        {
          "data": {
            "text/html": [
              "<table border='1'>\n",
              "<tr><th>host</th><th>day</th><th>count</th></tr>\n",
              "<tr><td>ip36.herndon2.va....</td><td>01</td><td>6</td></tr>\n",
              "<tr><td>modem72.ucdavis.edu</td><td>01</td><td>5</td></tr>\n",
              "<tr><td>202.6.90.68</td><td>01</td><td>24</td></tr>\n",
              "<tr><td>dialup97-045.swip...</td><td>01</td><td>9</td></tr>\n",
              "<tr><td>perseus.peganet.com</td><td>01</td><td>1</td></tr>\n",
              "<tr><td>kenwong.magna.com.au</td><td>01</td><td>4</td></tr>\n",
              "<tr><td>p235.infolink.co.za</td><td>01</td><td>7</td></tr>\n",
              "<tr><td>bridgewater-ts-11...</td><td>01</td><td>4</td></tr>\n",
              "<tr><td>halifax-ts4-05.ns...</td><td>01</td><td>16</td></tr>\n",
              "<tr><td>port19.wasatch.com</td><td>01</td><td>4</td></tr>\n",
              "<tr><td>fouad.ncsa.uiuc.edu</td><td>01</td><td>3</td></tr>\n",
              "<tr><td>137.91.20.212</td><td>01</td><td>4</td></tr>\n",
              "<tr><td>port11.gateway2.i...</td><td>01</td><td>9</td></tr>\n",
              "<tr><td>dd14-041.compuser...</td><td>01</td><td>1</td></tr>\n",
              "<tr><td>arnetpc-204.arn.net</td><td>01</td><td>4</td></tr>\n",
              "<tr><td>ziggurat.nightmar...</td><td>01</td><td>9</td></tr>\n",
              "<tr><td>pm-nb1-49.coastal...</td><td>01</td><td>14</td></tr>\n",
              "<tr><td>204.254.185.9</td><td>01</td><td>9</td></tr>\n",
              "<tr><td>tty19-01.swipnet.se</td><td>01</td><td>7</td></tr>\n",
              "<tr><td>tip-mp5-ncs-4.sta...</td><td>01</td><td>4</td></tr>\n",
              "</table>\n",
              "only showing top 20 rows\n"
            ],
            "text/plain": [
              "+--------------------+---+-----+\n",
              "|                host|day|count|\n",
              "+--------------------+---+-----+\n",
              "|ip36.herndon2.va....| 01|    6|\n",
              "| modem72.ucdavis.edu| 01|    5|\n",
              "|         202.6.90.68| 01|   24|\n",
              "|dialup97-045.swip...| 01|    9|\n",
              "| perseus.peganet.com| 01|    1|\n",
              "|kenwong.magna.com.au| 01|    4|\n",
              "| p235.infolink.co.za| 01|    7|\n",
              "|bridgewater-ts-11...| 01|    4|\n",
              "|halifax-ts4-05.ns...| 01|   16|\n",
              "|  port19.wasatch.com| 01|    4|\n",
              "| fouad.ncsa.uiuc.edu| 01|    3|\n",
              "|       137.91.20.212| 01|    4|\n",
              "|port11.gateway2.i...| 01|    9|\n",
              "|dd14-041.compuser...| 01|    1|\n",
              "| arnetpc-204.arn.net| 01|    4|\n",
              "|ziggurat.nightmar...| 01|    9|\n",
              "|pm-nb1-49.coastal...| 01|   14|\n",
              "|       204.254.185.9| 01|    9|\n",
              "| tty19-01.swipnet.se| 01|    7|\n",
              "|tip-mp5-ncs-4.sta...| 01|    4|\n",
              "+--------------------+---+-----+\n",
              "only showing top 20 rows"
            ]
          },
          "execution_count": 42,
          "metadata": {
            "tags": []
          },
          "output_type": "execute_result"
        }
      ],
      "source": [
        "most_daily_hosts_df = (most_host_df_daily.groupBy('host','day').count())                  \n",
        "most_daily_hosts_df"
      ]
    },
    {
      "cell_type": "markdown",
      "metadata": {
        "id": "zpkxbQHQTEXN"
      },
      "source": [
        "<div id=\"section1\"   dir='rtl'>\n",
        "    <h2>\n",
        "برای جدا کردن دامنه از ip مانند روش قبل عمل می کنیم که در مرحله ی قبل توضیح داده شد\n",
        "</h2>\n",
        "        <hr>"
      ]
    },
    {
      "cell_type": "code",
      "execution_count": 43,
      "metadata": {
        "colab": {
          "base_uri": "https://localhost:8080/",
          "height": 521
        },
        "id": "8G2TVpsNhbvG",
        "outputId": "a3bbb3eb-928b-4d28-ce33-9cd9cc70382a"
      },
      "outputs": [
        {
          "data": {
            "text/html": [
              "<table border='1'>\n",
              "<tr><th>host</th><th>day</th><th>count</th><th>name</th></tr>\n",
              "<tr><td>ip36.herndon2.va....</td><td>01</td><td>6</td><td>com</td></tr>\n",
              "<tr><td>modem72.ucdavis.edu</td><td>01</td><td>5</td><td>edu</td></tr>\n",
              "<tr><td>202.6.90.68</td><td>01</td><td>24</td><td>68</td></tr>\n",
              "<tr><td>dialup97-045.swip...</td><td>01</td><td>9</td><td>se</td></tr>\n",
              "<tr><td>perseus.peganet.com</td><td>01</td><td>1</td><td>com</td></tr>\n",
              "<tr><td>kenwong.magna.com.au</td><td>01</td><td>4</td><td>au</td></tr>\n",
              "<tr><td>p235.infolink.co.za</td><td>01</td><td>7</td><td>za</td></tr>\n",
              "<tr><td>bridgewater-ts-11...</td><td>01</td><td>4</td><td>ca</td></tr>\n",
              "<tr><td>halifax-ts4-05.ns...</td><td>01</td><td>16</td><td>ca</td></tr>\n",
              "<tr><td>port19.wasatch.com</td><td>01</td><td>4</td><td>com</td></tr>\n",
              "<tr><td>fouad.ncsa.uiuc.edu</td><td>01</td><td>3</td><td>edu</td></tr>\n",
              "<tr><td>137.91.20.212</td><td>01</td><td>4</td><td>212</td></tr>\n",
              "<tr><td>port11.gateway2.i...</td><td>01</td><td>9</td><td>net</td></tr>\n",
              "<tr><td>dd14-041.compuser...</td><td>01</td><td>1</td><td>com</td></tr>\n",
              "<tr><td>arnetpc-204.arn.net</td><td>01</td><td>4</td><td>net</td></tr>\n",
              "<tr><td>ziggurat.nightmar...</td><td>01</td><td>9</td><td>com</td></tr>\n",
              "<tr><td>pm-nb1-49.coastal...</td><td>01</td><td>14</td><td>com</td></tr>\n",
              "<tr><td>204.254.185.9</td><td>01</td><td>9</td><td>9</td></tr>\n",
              "<tr><td>tty19-01.swipnet.se</td><td>01</td><td>7</td><td>se</td></tr>\n",
              "<tr><td>tip-mp5-ncs-4.sta...</td><td>01</td><td>4</td><td>edu</td></tr>\n",
              "</table>\n",
              "only showing top 20 rows\n"
            ],
            "text/plain": [
              "+--------------------+---+-----+----+\n",
              "|                host|day|count|name|\n",
              "+--------------------+---+-----+----+\n",
              "|ip36.herndon2.va....| 01|    6| com|\n",
              "| modem72.ucdavis.edu| 01|    5| edu|\n",
              "|         202.6.90.68| 01|   24|  68|\n",
              "|dialup97-045.swip...| 01|    9|  se|\n",
              "| perseus.peganet.com| 01|    1| com|\n",
              "|kenwong.magna.com.au| 01|    4|  au|\n",
              "| p235.infolink.co.za| 01|    7|  za|\n",
              "|bridgewater-ts-11...| 01|    4|  ca|\n",
              "|halifax-ts4-05.ns...| 01|   16|  ca|\n",
              "|  port19.wasatch.com| 01|    4| com|\n",
              "| fouad.ncsa.uiuc.edu| 01|    3| edu|\n",
              "|       137.91.20.212| 01|    4| 212|\n",
              "|port11.gateway2.i...| 01|    9| net|\n",
              "|dd14-041.compuser...| 01|    1| com|\n",
              "| arnetpc-204.arn.net| 01|    4| net|\n",
              "|ziggurat.nightmar...| 01|    9| com|\n",
              "|pm-nb1-49.coastal...| 01|   14| com|\n",
              "|       204.254.185.9| 01|    9|   9|\n",
              "| tty19-01.swipnet.se| 01|    7|  se|\n",
              "|tip-mp5-ncs-4.sta...| 01|    4| edu|\n",
              "+--------------------+---+-----+----+\n",
              "only showing top 20 rows"
            ]
          },
          "execution_count": 43,
          "metadata": {
            "tags": []
          },
          "output_type": "execute_result"
        }
      ],
      "source": [
        "splitname2= split(most_daily_hosts_df['host'], '\\.')\n",
        "most__hosts_df2 = most_daily_hosts_df.withColumn('name', splitname2.getItem(size(splitname2) - 1))\n",
        "most__hosts_df2"
      ]
    },
    {
      "cell_type": "code",
      "execution_count": 44,
      "metadata": {
        "colab": {
          "base_uri": "https://localhost:8080/",
          "height": 521
        },
        "id": "1GloT5rQW-N_",
        "outputId": "7719dbf4-943a-4317-8538-d54e843ce0e4"
      },
      "outputs": [
        {
          "data": {
            "text/html": [
              "<table border='1'>\n",
              "<tr><th>host</th><th>day</th><th>count</th><th>name</th></tr>\n",
              "<tr><td>ip36.herndon2.va....</td><td>01</td><td>6</td><td>null</td></tr>\n",
              "<tr><td>modem72.ucdavis.edu</td><td>01</td><td>5</td><td>null</td></tr>\n",
              "<tr><td>202.6.90.68</td><td>01</td><td>24</td><td>68</td></tr>\n",
              "<tr><td>dialup97-045.swip...</td><td>01</td><td>9</td><td>null</td></tr>\n",
              "<tr><td>perseus.peganet.com</td><td>01</td><td>1</td><td>null</td></tr>\n",
              "<tr><td>kenwong.magna.com.au</td><td>01</td><td>4</td><td>null</td></tr>\n",
              "<tr><td>p235.infolink.co.za</td><td>01</td><td>7</td><td>null</td></tr>\n",
              "<tr><td>bridgewater-ts-11...</td><td>01</td><td>4</td><td>null</td></tr>\n",
              "<tr><td>halifax-ts4-05.ns...</td><td>01</td><td>16</td><td>null</td></tr>\n",
              "<tr><td>port19.wasatch.com</td><td>01</td><td>4</td><td>null</td></tr>\n",
              "<tr><td>fouad.ncsa.uiuc.edu</td><td>01</td><td>3</td><td>null</td></tr>\n",
              "<tr><td>137.91.20.212</td><td>01</td><td>4</td><td>212</td></tr>\n",
              "<tr><td>port11.gateway2.i...</td><td>01</td><td>9</td><td>null</td></tr>\n",
              "<tr><td>dd14-041.compuser...</td><td>01</td><td>1</td><td>null</td></tr>\n",
              "<tr><td>arnetpc-204.arn.net</td><td>01</td><td>4</td><td>null</td></tr>\n",
              "<tr><td>ziggurat.nightmar...</td><td>01</td><td>9</td><td>null</td></tr>\n",
              "<tr><td>pm-nb1-49.coastal...</td><td>01</td><td>14</td><td>null</td></tr>\n",
              "<tr><td>204.254.185.9</td><td>01</td><td>9</td><td>9</td></tr>\n",
              "<tr><td>tty19-01.swipnet.se</td><td>01</td><td>7</td><td>null</td></tr>\n",
              "<tr><td>tip-mp5-ncs-4.sta...</td><td>01</td><td>4</td><td>null</td></tr>\n",
              "</table>\n",
              "only showing top 20 rows\n"
            ],
            "text/plain": [
              "+--------------------+---+-----+----+\n",
              "|                host|day|count|name|\n",
              "+--------------------+---+-----+----+\n",
              "|ip36.herndon2.va....| 01|    6|null|\n",
              "| modem72.ucdavis.edu| 01|    5|null|\n",
              "|         202.6.90.68| 01|   24|  68|\n",
              "|dialup97-045.swip...| 01|    9|null|\n",
              "| perseus.peganet.com| 01|    1|null|\n",
              "|kenwong.magna.com.au| 01|    4|null|\n",
              "| p235.infolink.co.za| 01|    7|null|\n",
              "|bridgewater-ts-11...| 01|    4|null|\n",
              "|halifax-ts4-05.ns...| 01|   16|null|\n",
              "|  port19.wasatch.com| 01|    4|null|\n",
              "| fouad.ncsa.uiuc.edu| 01|    3|null|\n",
              "|       137.91.20.212| 01|    4| 212|\n",
              "|port11.gateway2.i...| 01|    9|null|\n",
              "|dd14-041.compuser...| 01|    1|null|\n",
              "| arnetpc-204.arn.net| 01|    4|null|\n",
              "|ziggurat.nightmar...| 01|    9|null|\n",
              "|pm-nb1-49.coastal...| 01|   14|null|\n",
              "|       204.254.185.9| 01|    9|   9|\n",
              "| tty19-01.swipnet.se| 01|    7|null|\n",
              "|tip-mp5-ncs-4.sta...| 01|    4|null|\n",
              "+--------------------+---+-----+----+\n",
              "only showing top 20 rows"
            ]
          },
          "execution_count": 44,
          "metadata": {
            "tags": []
          },
          "output_type": "execute_result"
        }
      ],
      "source": [
        "most__hosts_df2.createOrReplaceTempView(\"CastExample2\")\n",
        "df2 = spark.sql(\"SELECT host,day,count,int(name) from CastExample2\")\n",
        "df2"
      ]
    },
    {
      "cell_type": "code",
      "execution_count": 45,
      "metadata": {
        "colab": {
          "base_uri": "https://localhost:8080/",
          "height": 521
        },
        "id": "oaLXEOo5n3HX",
        "outputId": "af63959c-e5e6-466b-ce10-9b79ed2ccbd8"
      },
      "outputs": [
        {
          "data": {
            "text/html": [
              "<table border='1'>\n",
              "<tr><th>host</th><th>day</th><th>count</th><th>name</th></tr>\n",
              "<tr><td>ip36.herndon2.va....</td><td>01</td><td>6</td><td>null</td></tr>\n",
              "<tr><td>modem72.ucdavis.edu</td><td>01</td><td>5</td><td>null</td></tr>\n",
              "<tr><td>dialup97-045.swip...</td><td>01</td><td>9</td><td>null</td></tr>\n",
              "<tr><td>perseus.peganet.com</td><td>01</td><td>1</td><td>null</td></tr>\n",
              "<tr><td>kenwong.magna.com.au</td><td>01</td><td>4</td><td>null</td></tr>\n",
              "<tr><td>p235.infolink.co.za</td><td>01</td><td>7</td><td>null</td></tr>\n",
              "<tr><td>bridgewater-ts-11...</td><td>01</td><td>4</td><td>null</td></tr>\n",
              "<tr><td>halifax-ts4-05.ns...</td><td>01</td><td>16</td><td>null</td></tr>\n",
              "<tr><td>port19.wasatch.com</td><td>01</td><td>4</td><td>null</td></tr>\n",
              "<tr><td>fouad.ncsa.uiuc.edu</td><td>01</td><td>3</td><td>null</td></tr>\n",
              "<tr><td>port11.gateway2.i...</td><td>01</td><td>9</td><td>null</td></tr>\n",
              "<tr><td>dd14-041.compuser...</td><td>01</td><td>1</td><td>null</td></tr>\n",
              "<tr><td>arnetpc-204.arn.net</td><td>01</td><td>4</td><td>null</td></tr>\n",
              "<tr><td>ziggurat.nightmar...</td><td>01</td><td>9</td><td>null</td></tr>\n",
              "<tr><td>pm-nb1-49.coastal...</td><td>01</td><td>14</td><td>null</td></tr>\n",
              "<tr><td>tty19-01.swipnet.se</td><td>01</td><td>7</td><td>null</td></tr>\n",
              "<tr><td>tip-mp5-ncs-4.sta...</td><td>01</td><td>4</td><td>null</td></tr>\n",
              "<tr><td>trillian.execpc.com</td><td>01</td><td>9</td><td>null</td></tr>\n",
              "<tr><td>ix-wp1-14.ix.netc...</td><td>01</td><td>10</td><td>null</td></tr>\n",
              "<tr><td>rsd.xnet.com</td><td>01</td><td>15</td><td>null</td></tr>\n",
              "</table>\n",
              "only showing top 20 rows\n"
            ],
            "text/plain": [
              "+--------------------+---+-----+----+\n",
              "|                host|day|count|name|\n",
              "+--------------------+---+-----+----+\n",
              "|ip36.herndon2.va....| 01|    6|null|\n",
              "| modem72.ucdavis.edu| 01|    5|null|\n",
              "|dialup97-045.swip...| 01|    9|null|\n",
              "| perseus.peganet.com| 01|    1|null|\n",
              "|kenwong.magna.com.au| 01|    4|null|\n",
              "| p235.infolink.co.za| 01|    7|null|\n",
              "|bridgewater-ts-11...| 01|    4|null|\n",
              "|halifax-ts4-05.ns...| 01|   16|null|\n",
              "|  port19.wasatch.com| 01|    4|null|\n",
              "| fouad.ncsa.uiuc.edu| 01|    3|null|\n",
              "|port11.gateway2.i...| 01|    9|null|\n",
              "|dd14-041.compuser...| 01|    1|null|\n",
              "| arnetpc-204.arn.net| 01|    4|null|\n",
              "|ziggurat.nightmar...| 01|    9|null|\n",
              "|pm-nb1-49.coastal...| 01|   14|null|\n",
              "| tty19-01.swipnet.se| 01|    7|null|\n",
              "|tip-mp5-ncs-4.sta...| 01|    4|null|\n",
              "| trillian.execpc.com| 01|    9|null|\n",
              "|ix-wp1-14.ix.netc...| 01|   10|null|\n",
              "|        rsd.xnet.com| 01|   15|null|\n",
              "+--------------------+---+-----+----+\n",
              "only showing top 20 rows"
            ]
          },
          "execution_count": 45,
          "metadata": {
            "tags": []
          },
          "output_type": "execute_result"
        }
      ],
      "source": [
        "df2=df2.filter(df2.name.isNull())\n",
        "df2"
      ]
    },
    {
      "cell_type": "markdown",
      "metadata": {
        "id": "y7bhrz29TVnK"
      },
      "source": [
        "<div id=\"section1\"   dir='rtl'>\n",
        "    <h2>\n",
        "حال با دستور max ماکسیمم تعداد هاستی که در هر روز وجود داشت را پیدا می کنیم\n",
        "  </div>\n",
        "</h2>\n",
        "        <hr>"
      ]
    },
    {
      "cell_type": "code",
      "execution_count": 46,
      "metadata": {
        "colab": {
          "base_uri": "https://localhost:8080/",
          "height": 521
        },
        "id": "g-fUoeMin3DK",
        "outputId": "3d4228fe-bb5d-4e18-fe57-2eb941cba341"
      },
      "outputs": [
        {
          "data": {
            "text/html": [
              "<table border='1'>\n",
              "<tr><th>day</th><th>max(count)</th></tr>\n",
              "<tr><td>07</td><td>879</td></tr>\n",
              "<tr><td>15</td><td>974</td></tr>\n",
              "<tr><td>11</td><td>1394</td></tr>\n",
              "<tr><td>01</td><td>623</td></tr>\n",
              "<tr><td>22</td><td>700</td></tr>\n",
              "<tr><td>28</td><td>353</td></tr>\n",
              "<tr><td>16</td><td>1280</td></tr>\n",
              "<tr><td>18</td><td>700</td></tr>\n",
              "<tr><td>27</td><td>283</td></tr>\n",
              "<tr><td>17</td><td>850</td></tr>\n",
              "<tr><td>26</td><td>312</td></tr>\n",
              "<tr><td>09</td><td>545</td></tr>\n",
              "<tr><td>05</td><td>826</td></tr>\n",
              "<tr><td>19</td><td>847</td></tr>\n",
              "<tr><td>23</td><td>709</td></tr>\n",
              "<tr><td>08</td><td>781</td></tr>\n",
              "<tr><td>03</td><td>1067</td></tr>\n",
              "<tr><td>25</td><td>763</td></tr>\n",
              "<tr><td>02</td><td>960</td></tr>\n",
              "<tr><td>06</td><td>732</td></tr>\n",
              "</table>\n",
              "only showing top 20 rows\n"
            ],
            "text/plain": [
              "+---+----------+\n",
              "|day|max(count)|\n",
              "+---+----------+\n",
              "| 07|       879|\n",
              "| 15|       974|\n",
              "| 11|      1394|\n",
              "| 01|       623|\n",
              "| 22|       700|\n",
              "| 28|       353|\n",
              "| 16|      1280|\n",
              "| 18|       700|\n",
              "| 27|       283|\n",
              "| 17|       850|\n",
              "| 26|       312|\n",
              "| 09|       545|\n",
              "| 05|       826|\n",
              "| 19|       847|\n",
              "| 23|       709|\n",
              "| 08|       781|\n",
              "| 03|      1067|\n",
              "| 25|       763|\n",
              "| 02|       960|\n",
              "| 06|       732|\n",
              "+---+----------+\n",
              "only showing top 20 rows"
            ]
          },
          "execution_count": 46,
          "metadata": {
            "tags": []
          },
          "output_type": "execute_result"
        }
      ],
      "source": [
        "df3 = (df2.groupBy('day').max('count'))                \n",
        "df3"
      ]
    },
    {
      "cell_type": "markdown",
      "metadata": {
        "id": "t8sv1vd6Tgv0"
      },
      "source": [
        "<div id=\"section1\"   dir='rtl'>\n",
        "    <h2>\n",
        "اما چون نام این هاست ها را می خواهیم ابتدا چون تعداد در جدول اول با جدول بدست امده یکی است ، نام ها را یکسان ست کنیم سپس از join استفاده کنیم تا نام هاست ها را دریافت کنیم.در ادامه بیشتر توضیح می دهم  </div>\n",
        "</h2>\n",
        "        <hr>"
      ]
    },
    {
      "cell_type": "code",
      "execution_count": 48,
      "metadata": {
        "colab": {
          "base_uri": "https://localhost:8080/",
          "height": 521
        },
        "id": "pR5cdoCm8zow",
        "outputId": "2ba405f7-6133-4388-a761-0a8debe06373"
      },
      "outputs": [
        {
          "data": {
            "text/html": [
              "<table border='1'>\n",
              "<tr><th>day</th><th>count</th></tr>\n",
              "<tr><td>07</td><td>879</td></tr>\n",
              "<tr><td>15</td><td>974</td></tr>\n",
              "<tr><td>11</td><td>1394</td></tr>\n",
              "<tr><td>01</td><td>623</td></tr>\n",
              "<tr><td>22</td><td>700</td></tr>\n",
              "<tr><td>28</td><td>353</td></tr>\n",
              "<tr><td>16</td><td>1280</td></tr>\n",
              "<tr><td>18</td><td>700</td></tr>\n",
              "<tr><td>27</td><td>283</td></tr>\n",
              "<tr><td>17</td><td>850</td></tr>\n",
              "<tr><td>26</td><td>312</td></tr>\n",
              "<tr><td>09</td><td>545</td></tr>\n",
              "<tr><td>05</td><td>826</td></tr>\n",
              "<tr><td>19</td><td>847</td></tr>\n",
              "<tr><td>23</td><td>709</td></tr>\n",
              "<tr><td>08</td><td>781</td></tr>\n",
              "<tr><td>03</td><td>1067</td></tr>\n",
              "<tr><td>25</td><td>763</td></tr>\n",
              "<tr><td>02</td><td>960</td></tr>\n",
              "<tr><td>06</td><td>732</td></tr>\n",
              "</table>\n",
              "only showing top 20 rows\n"
            ],
            "text/plain": [
              "+---+-----+\n",
              "|day|count|\n",
              "+---+-----+\n",
              "| 07|  879|\n",
              "| 15|  974|\n",
              "| 11| 1394|\n",
              "| 01|  623|\n",
              "| 22|  700|\n",
              "| 28|  353|\n",
              "| 16| 1280|\n",
              "| 18|  700|\n",
              "| 27|  283|\n",
              "| 17|  850|\n",
              "| 26|  312|\n",
              "| 09|  545|\n",
              "| 05|  826|\n",
              "| 19|  847|\n",
              "| 23|  709|\n",
              "| 08|  781|\n",
              "| 03| 1067|\n",
              "| 25|  763|\n",
              "| 02|  960|\n",
              "| 06|  732|\n",
              "+---+-----+\n",
              "only showing top 20 rows"
            ]
          },
          "execution_count": 48,
          "metadata": {
            "tags": []
          },
          "output_type": "execute_result"
        }
      ],
      "source": [
        "from pyspark.sql.functions import col\n",
        "\n",
        "mapping = dict(zip(['day', 'max(count)']\n",
        "\n",
        "                   , ['day', 'count']))\n",
        "df4=df3.select([col(c).alias(mapping.get(c, c)) for c in df3.columns])\n",
        "df4"
      ]
    },
    {
      "cell_type": "markdown",
      "metadata": {
        "id": "JUwGKSPpUaQc"
      },
      "source": [
        "<div id=\"section1\"   dir='rtl'>\n",
        "    <h2>\n",
        "برای join من از sql استفاده کردم به این ترتیب که 2 جدول را گرفتم سپس روز و تعداد را در این جدول مقایسه کردم و هر جا که روز و تعداد (یک جدول همان جدول ماکس ما است)با جدول df4 که جدول ماکس ما هست برابر بود نام دامنه و تعداد و روز را دریافت می کنیم و سپس برای  پرتقاضاترین را برای هر روز به صورت سورت شده از اخرین روز تا روز اولی که در این logfile هست نشان می دهیم مثلا در روز 28 ام هاست مدنظر بیشترین تعداد بازید سایت را با 353 بار داشته است   \n",
        "  </div>\n",
        "</h2>\n",
        "        <hr>"
      ]
    },
    {
      "cell_type": "code",
      "execution_count": 49,
      "metadata": {
        "colab": {
          "base_uri": "https://localhost:8080/"
        },
        "id": "owtOdCWtn3Ah",
        "outputId": "1646040b-7384-418a-94c8-e7a1d467a29d"
      },
      "outputs": [
        {
          "name": "stdout",
          "output_type": "stream",
          "text": [
            "+---------------------------+---+-----+\n",
            "|host                       |day|count|\n",
            "+---------------------------+---+-----+\n",
            "|pcmas.it.bton.ac.uk        |28 |353  |\n",
            "|edams.ksc.nasa.gov         |27 |283  |\n",
            "|piweba3y.prodigy.com       |26 |312  |\n",
            "|jbiagioni.npt.nuwc.navy.mil|25 |763  |\n",
            "|                           |24 |399  |\n",
            "|currypc.fpl.msstate.edu    |23 |709  |\n",
            "|currypc.fpl.msstate.edu    |22 |700  |\n",
            "|siltb10.orl.mmc.com        |21 |1354 |\n",
            "|siltb10.orl.mmc.com        |20 |884  |\n",
            "|siltb10.orl.mmc.com        |19 |847  |\n",
            "|                           |18 |700  |\n",
            "|siltb10.orl.mmc.com        |17 |850  |\n",
            "|piweba3y.prodigy.com       |16 |1280 |\n",
            "|piweba4y.prodigy.com       |15 |974  |\n",
            "|piweba4y.prodigy.com       |14 |1029 |\n",
            "|piweba3y.prodigy.com       |13 |1202 |\n",
            "|indy.gradient.com          |12 |1356 |\n",
            "|bill.ksc.nasa.gov          |11 |1394 |\n",
            "|e659229.boeing.com         |10 |358  |\n",
            "|alyssa.prodigy.com         |09 |545  |\n",
            "|piweba3y.prodigy.com       |08 |781  |\n",
            "|piweba3y.prodigy.com       |07 |879  |\n",
            "|piweba3y.prodigy.com       |06 |732  |\n",
            "|news.ti.com                |05 |826  |\n",
            "|piweba3y.prodigy.com       |04 |1199 |\n",
            "|piweba3y.prodigy.com       |03 |1067 |\n",
            "|piweba3y.prodigy.com       |02 |960  |\n",
            "|piweba3y.prodigy.com       |01 |623  |\n",
            "|                           |   |1    |\n",
            "+---------------------------+---+-----+\n",
            "\n"
          ]
        }
      ],
      "source": [
        "df2.createOrReplaceTempView(\"df2\")\n",
        "df4.createOrReplaceTempView(\"df4\")\n",
        "\n",
        "sqlDF_maxhost = spark.sql(\"select host,df4.day,df4.count from df2,df4 where df2.count = df4.count and df2.day=df4.day;\")\n",
        "sqlDF_maxhost.orderBy(col(\"day\").desc()).show(30, truncate=False)"
      ]
    },
    {
      "cell_type": "markdown",
      "metadata": {
        "id": "6FUhGqr6TtKJ"
      },
      "source": [
        "#step 5\n"
      ]
    },
    {
      "cell_type": "markdown",
      "metadata": {
        "id": "3JTrYX-IV_Jq"
      },
      "source": [
        "<div id=\"section1\"   dir='rtl'>\n",
        "    <h2>\n",
        "در این گام از ما خواسته شده است که خطاهای غیر 200 را پیدا کنیم و در نمودار نشان دهیم که برای اینکار ایتدا از ستون status که خطاها در این ستون قرار دارند، با استفاده از تابع filter خطاهای غیر 200 را دریافت می کنیم سپس این خطاها را گروپ بای می کنیم و تعداد هر کدام را می گیریم و نمایش می دهیم\n",
        "  </div>\n",
        "</h2>\n",
        "        <hr>"
      ]
    },
    {
      "cell_type": "code",
      "execution_count": 50,
      "metadata": {
        "colab": {
          "base_uri": "https://localhost:8080/"
        },
        "id": "SngZZWxK9hTs",
        "outputId": "75dcb11c-cec5-42f7-c5e2-f262b2663896"
      },
      "outputs": [
        {
          "name": "stdout",
          "output_type": "stream",
          "text": [
            "+------+------+\n",
            "|status|count |\n",
            "+------+------+\n",
            "|501   |14    |\n",
            "|500   |62    |\n",
            "|400   |5     |\n",
            "|403   |54    |\n",
            "|404   |10843 |\n",
            "|304   |132627|\n",
            "|302   |46573 |\n",
            "+------+------+\n",
            "\n"
          ]
        }
      ],
      "source": [
        "not200_df = (logs_data.filter(logs_data['status'] != 200))\n",
        "error_status_freq_df = (not200_df.groupBy('status').count().limit(20) )                  \n",
        "error_status_freq_df.show(truncate=False)  "
      ]
    },
    {
      "cell_type": "markdown",
      "metadata": {
        "id": "s5HcP08VWr9_"
      },
      "source": [
        "<div id=\"section1\"   dir='rtl'>\n",
        "    <h2>\n",
        "برای اینکه در نمودار نشان دهیم به پانداز تبدیل می کنیم و انها را بر اساس تعداد سورت می کنیم \n",
        "  </div>\n",
        "</h2>\n",
        "        <hr>"
      ]
    },
    {
      "cell_type": "code",
      "execution_count": 51,
      "metadata": {
        "colab": {
          "base_uri": "https://localhost:8080/",
          "height": 266
        },
        "id": "VVaP3wTU9gRE",
        "outputId": "4bb69de2-e1b9-451f-ba07-ba3619469273"
      },
      "outputs": [
        {
          "data": {
            "text/html": [
              "<div>\n",
              "<style scoped>\n",
              "    .dataframe tbody tr th:only-of-type {\n",
              "        vertical-align: middle;\n",
              "    }\n",
              "\n",
              "    .dataframe tbody tr th {\n",
              "        vertical-align: top;\n",
              "    }\n",
              "\n",
              "    .dataframe thead th {\n",
              "        text-align: right;\n",
              "    }\n",
              "</style>\n",
              "<table border=\"1\" class=\"dataframe\">\n",
              "  <thead>\n",
              "    <tr style=\"text-align: right;\">\n",
              "      <th></th>\n",
              "      <th>status</th>\n",
              "      <th>count</th>\n",
              "    </tr>\n",
              "  </thead>\n",
              "  <tbody>\n",
              "    <tr>\n",
              "      <th>5</th>\n",
              "      <td>304</td>\n",
              "      <td>132627</td>\n",
              "    </tr>\n",
              "    <tr>\n",
              "      <th>6</th>\n",
              "      <td>302</td>\n",
              "      <td>46573</td>\n",
              "    </tr>\n",
              "    <tr>\n",
              "      <th>4</th>\n",
              "      <td>404</td>\n",
              "      <td>10843</td>\n",
              "    </tr>\n",
              "    <tr>\n",
              "      <th>1</th>\n",
              "      <td>500</td>\n",
              "      <td>62</td>\n",
              "    </tr>\n",
              "    <tr>\n",
              "      <th>3</th>\n",
              "      <td>403</td>\n",
              "      <td>54</td>\n",
              "    </tr>\n",
              "    <tr>\n",
              "      <th>0</th>\n",
              "      <td>501</td>\n",
              "      <td>14</td>\n",
              "    </tr>\n",
              "    <tr>\n",
              "      <th>2</th>\n",
              "      <td>400</td>\n",
              "      <td>5</td>\n",
              "    </tr>\n",
              "  </tbody>\n",
              "</table>\n",
              "</div>"
            ],
            "text/plain": [
              "   status   count\n",
              "5     304  132627\n",
              "6     302   46573\n",
              "4     404   10843\n",
              "1     500      62\n",
              "3     403      54\n",
              "0     501      14\n",
              "2     400       5"
            ]
          },
          "execution_count": 51,
          "metadata": {
            "tags": []
          },
          "output_type": "execute_result"
        }
      ],
      "source": [
        "error_status_freq_df = (error_status_freq_df.toPandas().sort_values(by=['count'],ascending=False))\n",
        "error_status_freq_df"
      ]
    },
    {
      "cell_type": "markdown",
      "metadata": {
        "id": "JAWJu9juXM9a"
      },
      "source": [
        "<div id=\"section1\"   dir='rtl'>\n",
        "    <h2>\n",
        "سپس با استفاده از seaborn بارپلات را برای این خطاها رسم می کنیم که همانطور که در پیش تر هم بدست اورده بودیم خطای 304 بیشترین بار اتفاق افتاده است.\n",
        "  </div>\n",
        "</h2>\n",
        "        <hr>"
      ]
    },
    {
      "cell_type": "code",
      "execution_count": 52,
      "metadata": {
        "id": "m1r10mPMXD5y"
      },
      "outputs": [],
      "source": [
        "import seaborn as sns"
      ]
    },
    {
      "cell_type": "code",
      "execution_count": 53,
      "metadata": {
        "colab": {
          "base_uri": "https://localhost:8080/",
          "height": 383
        },
        "id": "nTIByobYZlKO",
        "outputId": "7ee89583-0973-44ef-e14f-dc695805a220"
      },
      "outputs": [
        {
          "data": {
            "image/png": "[encoded data removed]",
            "text/plain": [
              "<Figure size 360x360 with 1 Axes>"
            ]
          },
          "metadata": {
            "needs_background": "light",
            "tags": []
          },
          "output_type": "display_data"
        }
      ],
      "source": [
        "sns.catplot(x='status', y='count', data=error_status_freq_df,kind='bar', order=error_status_freq_df['status']);\n"
      ]
    }
  ],
  "metadata": {
    "colab": {
      "collapsed_sections": [],
      "name": "game2_(6)_(1)_(2) (1).ipynb",
      "provenance": []
    },
    "kernelspec": {
      "display_name": "Python 3",
      "name": "python3"
    },
    "language_info": {
      "name": "python"
    }
  },
  "nbformat": 4,
  "nbformat_minor": 0
}
